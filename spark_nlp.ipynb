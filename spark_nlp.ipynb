{
  "nbformat": 4,
  "nbformat_minor": 0,
  "metadata": {
    "colab": {
      "provenance": [],
      "collapsed_sections": []
    },
    "kernelspec": {
      "name": "python3",
      "display_name": "Python 3"
    },
    "language_info": {
      "name": "python"
    }
  },
  "cells": [
    {
      "cell_type": "code",
      "execution_count": 1,
      "metadata": {
        "colab": {
          "base_uri": "https://localhost:8080/"
        },
        "id": "vtesyEsnIpsS",
        "outputId": "0e757378-2933-4812-f1f8-73c6991eb593"
      },
      "outputs": [
        {
          "output_type": "stream",
          "name": "stdout",
          "text": [
            "Looking in indexes: https://pypi.org/simple, https://us-python.pkg.dev/colab-wheels/public/simple/\n",
            "Collecting pyspark\n",
            "  Downloading pyspark-3.3.1.tar.gz (281.4 MB)\n",
            "\u001b[K     |████████████████████████████████| 281.4 MB 39 kB/s \n",
            "\u001b[?25hCollecting py4j==0.10.9.5\n",
            "  Downloading py4j-0.10.9.5-py2.py3-none-any.whl (199 kB)\n",
            "\u001b[K     |████████████████████████████████| 199 kB 51.5 MB/s \n",
            "\u001b[?25hBuilding wheels for collected packages: pyspark\n",
            "  Building wheel for pyspark (setup.py) ... \u001b[?25l\u001b[?25hdone\n",
            "  Created wheel for pyspark: filename=pyspark-3.3.1-py2.py3-none-any.whl size=281845513 sha256=ee24c25e1a5e7ec2770c7264463701f06b402cdf805d2eccecfe755fb250a9af\n",
            "  Stored in directory: /root/.cache/pip/wheels/42/59/f5/79a5bf931714dcd201b26025347785f087370a10a3329a899c\n",
            "Successfully built pyspark\n",
            "Installing collected packages: py4j, pyspark\n",
            "Successfully installed py4j-0.10.9.5 pyspark-3.3.1\n"
          ]
        }
      ],
      "source": [
        "# Instalando o PySpark\n",
        "\n",
        "!pip install pyspark"
      ]
    },
    {
      "cell_type": "code",
      "source": [
        "# Iniciando uma sessão\n",
        "\n",
        "from pyspark.sql import SparkSession\n",
        "\n",
        "spark = SparkSession.builder\\\n",
        "    .master('local[*]')\\\n",
        "    .appName('analise_nlp')\\\n",
        "    .getOrCreate()"
      ],
      "metadata": {
        "id": "UGb9RH7qI67H"
      },
      "execution_count": 2,
      "outputs": []
    },
    {
      "cell_type": "code",
      "source": [
        "from google.colab import drive\n",
        "drive.mount('/content/drive')"
      ],
      "metadata": {
        "colab": {
          "base_uri": "https://localhost:8080/"
        },
        "id": "euaboKHnJYTT",
        "outputId": "871855c5-2aa5-4b6a-8cb0-3288ee9241a6"
      },
      "execution_count": 3,
      "outputs": [
        {
          "output_type": "stream",
          "name": "stdout",
          "text": [
            "Mounted at /content/drive\n"
          ]
        }
      ]
    },
    {
      "cell_type": "code",
      "source": [
        "# Salvando os dados em uma variável\n",
        "\n",
        "dados = spark.read.csv(\"/content/drive/MyDrive/spark-nlp/imdb-reviews-pt-br.csv\",\n",
        "                       escape = '\\\"',\n",
        "                       inferSchema = True,\n",
        "                       header = True)"
      ],
      "metadata": {
        "id": "VxknPFt_KEdd"
      },
      "execution_count": 4,
      "outputs": []
    },
    {
      "cell_type": "markdown",
      "source": [
        "# **Explorando os dados**"
      ],
      "metadata": {
        "id": "awhj7OyzRiGa"
      }
    },
    {
      "cell_type": "code",
      "source": [
        "dados.count()"
      ],
      "metadata": {
        "colab": {
          "base_uri": "https://localhost:8080/"
        },
        "id": "9WEMoJhtN_B-",
        "outputId": "594c597b-0b69-4cfb-b280-f855c454ba36"
      },
      "execution_count": 5,
      "outputs": [
        {
          "output_type": "execute_result",
          "data": {
            "text/plain": [
              "49459"
            ]
          },
          "metadata": {},
          "execution_count": 5
        }
      ]
    },
    {
      "cell_type": "code",
      "source": [
        "dados.printSchema()"
      ],
      "metadata": {
        "colab": {
          "base_uri": "https://localhost:8080/"
        },
        "id": "gM92MWoIRqRK",
        "outputId": "87441b12-e338-43c5-e528-39e5bd16049e"
      },
      "execution_count": 6,
      "outputs": [
        {
          "output_type": "stream",
          "name": "stdout",
          "text": [
            "root\n",
            " |-- id: integer (nullable = true)\n",
            " |-- text_en: string (nullable = true)\n",
            " |-- text_pt: string (nullable = true)\n",
            " |-- sentiment: string (nullable = true)\n",
            "\n"
          ]
        }
      ]
    },
    {
      "cell_type": "code",
      "source": [
        "dados.show(5)"
      ],
      "metadata": {
        "colab": {
          "base_uri": "https://localhost:8080/"
        },
        "id": "ogceHxXsRtM9",
        "outputId": "67abf83d-df4d-437d-a6ba-d66c0fc05131"
      },
      "execution_count": 7,
      "outputs": [
        {
          "output_type": "stream",
          "name": "stdout",
          "text": [
            "+---+--------------------+--------------------+---------+\n",
            "| id|             text_en|             text_pt|sentiment|\n",
            "+---+--------------------+--------------------+---------+\n",
            "|  1|Once again Mr. Co...|Mais uma vez, o S...|      neg|\n",
            "|  2|This is an exampl...|Este é um exemplo...|      neg|\n",
            "|  3|First of all I ha...|Primeiro de tudo ...|      neg|\n",
            "|  4|Not even the Beat...|Nem mesmo os Beat...|      neg|\n",
            "|  5|Brass pictures mo...|Filmes de fotos d...|      neg|\n",
            "+---+--------------------+--------------------+---------+\n",
            "only showing top 5 rows\n",
            "\n"
          ]
        }
      ]
    },
    {
      "cell_type": "code",
      "source": [
        "dados.filter(dados.id == 190)\\\n",
        "    .select('text_pt')\\\n",
        "    .show(truncate=False)"
      ],
      "metadata": {
        "colab": {
          "base_uri": "https://localhost:8080/"
        },
        "id": "U6GvNPpJSWdT",
        "outputId": "a4eb92ba-4103-4325-e1b0-8b5c1d30e920"
      },
      "execution_count": 8,
      "outputs": [
        {
          "output_type": "stream",
          "name": "stdout",
          "text": [
            "+---------------------------------------------------------------------------------------------------------------------------------------------------------------------------------------------------------------------------------------------------------------------------------------------------------------------------------------------------------------------------------------------------------------------------------------------------------------------------------------------------------------------------------------------------------------------------------------------------------------------------------------------------------------------------------------------------------------------------------------------------------------------------------------------------------------------------------------------------------------------------------------------------+\n",
            "|text_pt                                                                                                                                                                                                                                                                                                                                                                                                                                                                                                                                                                                                                                                                                                                                                                                                                                                                                            |\n",
            "+---------------------------------------------------------------------------------------------------------------------------------------------------------------------------------------------------------------------------------------------------------------------------------------------------------------------------------------------------------------------------------------------------------------------------------------------------------------------------------------------------------------------------------------------------------------------------------------------------------------------------------------------------------------------------------------------------------------------------------------------------------------------------------------------------------------------------------------------------------------------------------------------------+\n",
            "|Este é sem dúvida o pior filme que eu já vi. E acredite em mim, eu vi muitos filmes. A reviravolta inacreditável que o filme faz - passando de um extremamente mau filme \"Formas de vida alienígenas habitam a terra\", com um filme que tenta espalhar um arquicristiano \"O dia do julgamento está próximo, buscar Jesus ou queimar por toda a eternidade em as dívidas ardentes do inferno \"mensagem - deixou-me atordoado depois de ter sido atormentado por 85 minutos. Até mesmo os cristãos religiosos devem se envergonhar ou ficar furiosos ao ver suas crenças postadas dessa maneira. Eu não sabia o que fazer comigo quando assisti a atuação horrível que poderia ter sido realizada por crianças de 7 anos de idade. Simplesmente repugnante. Eu não sou cristão nem muito religioso. Mas se eu estivesse, não teria mais medo do Inferno. Rich Christiano mostrou ser algo muito pior.|\n",
            "+---------------------------------------------------------------------------------------------------------------------------------------------------------------------------------------------------------------------------------------------------------------------------------------------------------------------------------------------------------------------------------------------------------------------------------------------------------------------------------------------------------------------------------------------------------------------------------------------------------------------------------------------------------------------------------------------------------------------------------------------------------------------------------------------------------------------------------------------------------------------------------------------------+\n",
            "\n"
          ]
        }
      ]
    },
    {
      "cell_type": "code",
      "source": [
        "dados.filter(dados.id == 12427)\\\n",
        "    .select('text_pt')\\\n",
        "    .show(truncate=False)"
      ],
      "metadata": {
        "colab": {
          "base_uri": "https://localhost:8080/"
        },
        "id": "xfpm--xJS29d",
        "outputId": "ff2a1ac6-32db-4ff3-d076-89fb2c588557"
      },
      "execution_count": 9,
      "outputs": [
        {
          "output_type": "stream",
          "name": "stdout",
          "text": [
            "+-----------------------------------------------------------------------------------------------------------------------------------------------------------------------------------------------------------------------------------------------------------------------------------------------------------------------------------------------------------------------------------------------------------------------------------------------------------------------------------------------------------------------------------------------------------------------------------------------------------------------------------------------------------------------------------------------------------------------------------------------------+\n",
            "|text_pt                                                                                                                                                                                                                                                                                                                                                                                                                                                                                                                                                                                                                                                                                                                                              |\n",
            "+-----------------------------------------------------------------------------------------------------------------------------------------------------------------------------------------------------------------------------------------------------------------------------------------------------------------------------------------------------------------------------------------------------------------------------------------------------------------------------------------------------------------------------------------------------------------------------------------------------------------------------------------------------------------------------------------------------------------------------------------------------+\n",
            "|O filme é excelente. Uma das coisas mais notáveis ​​sobre isso é que o desempenho Flynns é excelente. Isso vale a pena enfatizar, já que ele costumava ser ridicularizado como ator por Bette Davis et al. Lembro-me da cena em que Flynn fica bêbado de Arthur Kennedy para levá-lo ao seu destino na Batalha de Little Big Horn. O olhar frio e calculista no rosto de Flynns é extraordinário - muito melhor do que o muito elogiado Spencer Tracy ou muitas outras estrelas poderiam ter feito. A outra coisa a notar é o excelente desempenho de George P. Huntley Jr como o \"Queens\". Próprio \"Butler. É desconcertante por que ele parou de fazer filmes pouco depois - alguém teria pensado que ele teria sido contratado por anos como ator.|\n",
            "+-----------------------------------------------------------------------------------------------------------------------------------------------------------------------------------------------------------------------------------------------------------------------------------------------------------------------------------------------------------------------------------------------------------------------------------------------------------------------------------------------------------------------------------------------------------------------------------------------------------------------------------------------------------------------------------------------------------------------------------------------------+\n",
            "\n"
          ]
        }
      ]
    },
    {
      "cell_type": "code",
      "source": [
        "dados\\\n",
        "    .groupBy('sentiment')\\\n",
        "    .count()\\\n",
        "    .show()"
      ],
      "metadata": {
        "colab": {
          "base_uri": "https://localhost:8080/"
        },
        "id": "Wy_i--NHTe2u",
        "outputId": "c302ed6c-24dc-4368-c749-1634d7c15fae"
      },
      "execution_count": 10,
      "outputs": [
        {
          "output_type": "stream",
          "name": "stdout",
          "text": [
            "+---------+-----+\n",
            "|sentiment|count|\n",
            "+---------+-----+\n",
            "|      pos|24694|\n",
            "|      neg|24765|\n",
            "+---------+-----+\n",
            "\n"
          ]
        }
      ]
    },
    {
      "cell_type": "markdown",
      "source": [
        "# **Limpando e processando os dados**"
      ],
      "metadata": {
        "id": "ECNl1lp9XJXz"
      }
    },
    {
      "cell_type": "code",
      "source": [
        "dados.show(10)"
      ],
      "metadata": {
        "colab": {
          "base_uri": "https://localhost:8080/"
        },
        "id": "_ygk_LiBTril",
        "outputId": "93f0ae66-ad16-4416-e949-5035aaf4331b"
      },
      "execution_count": 11,
      "outputs": [
        {
          "output_type": "stream",
          "name": "stdout",
          "text": [
            "+---+--------------------+--------------------+---------+\n",
            "| id|             text_en|             text_pt|sentiment|\n",
            "+---+--------------------+--------------------+---------+\n",
            "|  1|Once again Mr. Co...|Mais uma vez, o S...|      neg|\n",
            "|  2|This is an exampl...|Este é um exemplo...|      neg|\n",
            "|  3|First of all I ha...|Primeiro de tudo ...|      neg|\n",
            "|  4|Not even the Beat...|Nem mesmo os Beat...|      neg|\n",
            "|  5|Brass pictures mo...|Filmes de fotos d...|      neg|\n",
            "|  6|A funny thing hap...|Uma coisa engraça...|      neg|\n",
            "|  7|This German horro...|Este filme de ter...|      neg|\n",
            "|  8|Being a long-time...|Sendo um fã de lo...|      neg|\n",
            "|  9|\"Tokyo Eyes\" tell...|\"Tokyo Eyes\" fala...|      neg|\n",
            "| 10|Wealthy horse ran...|Fazendeiros ricos...|      neg|\n",
            "+---+--------------------+--------------------+---------+\n",
            "only showing top 10 rows\n",
            "\n"
          ]
        }
      ]
    },
    {
      "cell_type": "code",
      "source": [
        "from wordcloud import WordCloud\n",
        "import matplotlib.pyplot as plt\n",
        "\n",
        "amostra = dados\\\n",
        "    .select('text_pt')\\\n",
        "    .sample(fraction=0.1, seed=101)\n",
        "tudo = [texto['text_pt'] for texto in amostra.collect()]"
      ],
      "metadata": {
        "id": "U8ZVF8HvXOod"
      },
      "execution_count": 12,
      "outputs": []
    },
    {
      "cell_type": "code",
      "source": [
        "wordcloud = WordCloud(background_color='white',\n",
        "                      width=1000,\n",
        "                      height=600,\n",
        "                      collocations=False,\n",
        "                      prefer_horizontal=1).generate(str(tudo))"
      ],
      "metadata": {
        "id": "GbAYNTTGYysd"
      },
      "execution_count": 13,
      "outputs": []
    },
    {
      "cell_type": "code",
      "source": [
        "plt.figure(figsize=(20,8))\n",
        "plt.imshow(wordcloud)\n",
        "plt.axis('off')\n",
        "plt.show()"
      ],
      "metadata": {
        "colab": {
          "base_uri": "https://localhost:8080/",
          "height": 466
        },
        "id": "kj0EhWajYBGp",
        "outputId": "1be2a7f9-6764-4f58-b1b4-5cd5720de552"
      },
      "execution_count": 14,
      "outputs": [
        {
          "output_type": "display_data",
          "data": {
            "text/plain": [
              "<Figure size 1440x576 with 1 Axes>"
            ],
            "image/png": "[encoded data removed]"
          },
          "metadata": {
            "needs_background": "light"
          }
        }
      ]
    },
    {
      "cell_type": "code",
      "source": [
        "# Remoção de caracteres especiais\n",
        "\n",
        "import string\n",
        "string.punctuation"
      ],
      "metadata": {
        "colab": {
          "base_uri": "https://localhost:8080/",
          "height": 35
        },
        "id": "DjyimlKxYjqq",
        "outputId": "8528f073-a623-40ec-9bd5-3ff6937f4fa3"
      },
      "execution_count": 15,
      "outputs": [
        {
          "output_type": "execute_result",
          "data": {
            "text/plain": [
              "'!\"#$%&\\'()*+,-./:;<=>?@[\\\\]^_`{|}~'"
            ],
            "application/vnd.google.colaboratory.intrinsic+json": {
              "type": "string"
            }
          },
          "metadata": {},
          "execution_count": 15
        }
      ]
    },
    {
      "cell_type": "code",
      "source": [
        "# Exemplo de dataframe para limpeza de caracteres especiais\n",
        "\n",
        "amostra = spark.createDataFrame([\n",
        "    (\"Oi, JP! Blz?\",),\n",
        "    (\"$$$\\\\ |~ Parabéns ~| \\\\$$$\",),\n",
        "    (\"(#amovc #paz&amor ^.^)\",),\n",
        "    (\"\\\"bora *_* \\\"\",),\n",
        "    (\"=>->'...``` vc foi selecionad@ ´´´...'<=<-\",),\n",
        "    (\"{comprar: arroz; feijão e pepino} //\",),\n",
        "    (\"!\\\"#$%&'()*+,-./:;<=>?@[\\]^_`{|}~\",),\n",
        "    (\"ana@gmail.com\",)\n",
        "], [\"textos\"])"
      ],
      "metadata": {
        "id": "4WTNACyOaIl9"
      },
      "execution_count": 16,
      "outputs": []
    },
    {
      "cell_type": "code",
      "source": [
        "import pyspark.sql.functions as f\n",
        "\n",
        "amostra = amostra.withColumn(\"texto_regex\", f.regexp_replace(\"textos\", \"[\\$#,\\\"!%&'()*+-./:;<=>?@^_`´{|}~\\\\\\\\]\", \"\"))"
      ],
      "metadata": {
        "id": "GOfEtcdQbs0n"
      },
      "execution_count": 17,
      "outputs": []
    },
    {
      "cell_type": "code",
      "source": [
        "amostra.show(truncate=False)"
      ],
      "metadata": {
        "colab": {
          "base_uri": "https://localhost:8080/"
        },
        "id": "HacmlGmZcP5A",
        "outputId": "846a627e-3a13-4336-d280-4e3cc4b62fbd"
      },
      "execution_count": 18,
      "outputs": [
        {
          "output_type": "stream",
          "name": "stdout",
          "text": [
            "+------------------------------------------+------------------------------+\n",
            "|textos                                    |texto_regex                   |\n",
            "+------------------------------------------+------------------------------+\n",
            "|Oi, JP! Blz?                              |Oi JP Blz                     |\n",
            "|$$$\\ |~ Parabéns ~| \\$$$                  |  Parabéns                    |\n",
            "|(#amovc #paz&amor ^.^)                    |amovc pazamor                 |\n",
            "|\"bora *_* \"                               |bora                          |\n",
            "|=>->'...``` vc foi selecionad@ ´´´...'<=<-| vc foi selecionad            |\n",
            "|{comprar: arroz; feijão e pepino} //      |comprar arroz feijão e pepino |\n",
            "|!\"#$%&'()*+,-./:;<=>?@[\\]^_`{|}~          |[]                            |\n",
            "|ana@gmail.com                             |anagmailcom                   |\n",
            "+------------------------------------------+------------------------------+\n",
            "\n"
          ]
        }
      ]
    },
    {
      "cell_type": "code",
      "source": [
        "amostra = amostra.withColumn(\"texto_limpo\", f.trim(amostra.texto_regex))"
      ],
      "metadata": {
        "id": "zXZ3yeHDcStw"
      },
      "execution_count": 19,
      "outputs": []
    },
    {
      "cell_type": "code",
      "source": [
        "amostra.show(truncate=False)"
      ],
      "metadata": {
        "colab": {
          "base_uri": "https://localhost:8080/"
        },
        "id": "onPv6ny8dK23",
        "outputId": "b23be178-ac6a-45db-fccf-e1722005533b"
      },
      "execution_count": 20,
      "outputs": [
        {
          "output_type": "stream",
          "name": "stdout",
          "text": [
            "+------------------------------------------+------------------------------+-----------------------------+\n",
            "|textos                                    |texto_regex                   |texto_limpo                  |\n",
            "+------------------------------------------+------------------------------+-----------------------------+\n",
            "|Oi, JP! Blz?                              |Oi JP Blz                     |Oi JP Blz                    |\n",
            "|$$$\\ |~ Parabéns ~| \\$$$                  |  Parabéns                    |Parabéns                     |\n",
            "|(#amovc #paz&amor ^.^)                    |amovc pazamor                 |amovc pazamor                |\n",
            "|\"bora *_* \"                               |bora                          |bora                         |\n",
            "|=>->'...``` vc foi selecionad@ ´´´...'<=<-| vc foi selecionad            |vc foi selecionad            |\n",
            "|{comprar: arroz; feijão e pepino} //      |comprar arroz feijão e pepino |comprar arroz feijão e pepino|\n",
            "|!\"#$%&'()*+,-./:;<=>?@[\\]^_`{|}~          |[]                            |[]                           |\n",
            "|ana@gmail.com                             |anagmailcom                   |anagmailcom                  |\n",
            "+------------------------------------------+------------------------------+-----------------------------+\n",
            "\n"
          ]
        }
      ]
    },
    {
      "cell_type": "code",
      "source": [
        "dados = dados.withColumn(\"texto_regex\", f.regexp_replace(\"text_en\", \"[\\$#,\\\"!%&'()*+-./:;<=>?@^_`´{|}~\\\\\\\\]\", \"\"))"
      ],
      "metadata": {
        "id": "eF3W4Q18dLTA"
      },
      "execution_count": 21,
      "outputs": []
    },
    {
      "cell_type": "code",
      "source": [
        "dados.show(2, truncate=False)"
      ],
      "metadata": {
        "colab": {
          "base_uri": "https://localhost:8080/"
        },
        "id": "1B5tigWudizP",
        "outputId": "0e053d5d-2ebe-4d04-81ae-3c957aa0f77e"
      },
      "execution_count": 22,
      "outputs": [
        {
          "output_type": "stream",
          "name": "stdout",
          "text": [
            "+---+---------------------------------------------------------------------------------------------------------------------------------------------------------------------------------------------------------------------------------------------------------------------------------------------------------------------------------------------------------------------------------------------------------------------------------------------------------------------------------------------------------------------------------------------------------------------------------------------------------------------------------------------------------------------------------------------------------------------------------------------------------------------------------------------------------------------------------------------------------------------------------------------------------------------------------------------------------------------------------------------------------------------------------------------------------------------------------------------------------------------------------------------------------------------------------------------------------------------------------------------------------------------------------------------------------------------------------------------------------+-----------------------------------------------------------------------------------------------------------------------------------------------------------------------------------------------------------------------------------------------------------------------------------------------------------------------------------------------------------------------------------------------------------------------------------------------------------------------------------------------------------------------------------------------------------------------------------------------------------------------------------------------------------------------------------------------------------------------------------------------------------------------------------------------------------------------------------------------------------------------------------------------------------------------------------------------------------------------------------------------------------------------------------------------------------------------------------------------------------------------------------------------------------------------------------------------------------------------------------------------------------------------------------------------------------------------------------------------------------------------------------------------------------------------------+---------+--------------------------------------------------------------------------------------------------------------------------------------------------------------------------------------------------------------------------------------------------------------------------------------------------------------------------------------------------------------------------------------------------------------------------------------------------------------------------------------------------------------------------------------------------------------------------------------------------------------------------------------------------------------------------------------------------------------------------------------------------------------------------------------------------------------------------------------------------------------------------------------------------------------------------------------------------------------------------------------------------------------------------------------------------------------------------------------------------------------------------------------------------------------------------------------------------------------------------------------------------------------------------------------------------------------------+\n",
            "|id |text_en                                                                                                                                                                                                                                                                                                                                                                                                                                                                                                                                                                                                                                                                                                                                                                                                                                                                                                                                                                                                                                                                                                                                                                                                                                                                                                                                                  |text_pt                                                                                                                                                                                                                                                                                                                                                                                                                                                                                                                                                                                                                                                                                                                                                                                                                                                                                                                                                                                                                                                                                                                                                                                                                                                                                                                                                                                                                      |sentiment|texto_regex                                                                                                                                                                                                                                                                                                                                                                                                                                                                                                                                                                                                                                                                                                                                                                                                                                                                                                                                                                                                                                                                                                                                                                                                                                                                                                         |\n",
            "+---+---------------------------------------------------------------------------------------------------------------------------------------------------------------------------------------------------------------------------------------------------------------------------------------------------------------------------------------------------------------------------------------------------------------------------------------------------------------------------------------------------------------------------------------------------------------------------------------------------------------------------------------------------------------------------------------------------------------------------------------------------------------------------------------------------------------------------------------------------------------------------------------------------------------------------------------------------------------------------------------------------------------------------------------------------------------------------------------------------------------------------------------------------------------------------------------------------------------------------------------------------------------------------------------------------------------------------------------------------------+-----------------------------------------------------------------------------------------------------------------------------------------------------------------------------------------------------------------------------------------------------------------------------------------------------------------------------------------------------------------------------------------------------------------------------------------------------------------------------------------------------------------------------------------------------------------------------------------------------------------------------------------------------------------------------------------------------------------------------------------------------------------------------------------------------------------------------------------------------------------------------------------------------------------------------------------------------------------------------------------------------------------------------------------------------------------------------------------------------------------------------------------------------------------------------------------------------------------------------------------------------------------------------------------------------------------------------------------------------------------------------------------------------------------------------+---------+--------------------------------------------------------------------------------------------------------------------------------------------------------------------------------------------------------------------------------------------------------------------------------------------------------------------------------------------------------------------------------------------------------------------------------------------------------------------------------------------------------------------------------------------------------------------------------------------------------------------------------------------------------------------------------------------------------------------------------------------------------------------------------------------------------------------------------------------------------------------------------------------------------------------------------------------------------------------------------------------------------------------------------------------------------------------------------------------------------------------------------------------------------------------------------------------------------------------------------------------------------------------------------------------------------------------+\n",
            "|1  |Once again Mr. Costner has dragged out a movie for far longer than necessary. Aside from the terrific sea rescue sequences, of which there are very few I just did not care about any of the characters. Most of us have ghosts in the closet, and Costners character are realized early on, and then forgotten until much later, by which time I did not care. The character we should really care about is a very cocky, overconfident Ashton Kutcher. The problem is he comes off as kid who thinks hes better than anyone else around him and shows no signs of a cluttered closet. His only obstacle appears to be winning over Costner. Finally when we are well past the half way point of this stinker, Costner tells us all about Kutchers ghosts. We are told why Kutcher is driven to be the best with no prior inkling or foreshadowing. No magic here, it was all I could do to keep from turning it off an hour in.                                                                                                                                                                                                                                                                                                                                                                                                                        |Mais uma vez, o Sr. Costner arrumou um filme por muito mais tempo do que o necessário. Além das terríveis seqüências de resgate no mar, das quais há muito poucas, eu simplesmente não me importei com nenhum dos personagens. A maioria de nós tem fantasmas no armário, e o personagem Costers é realizado logo no início, e depois esquecido até muito mais tarde, quando eu não me importava. O personagem com o qual deveríamos nos importar é muito arrogante e superconfiante, Ashton Kutcher. O problema é que ele sai como um garoto que pensa que é melhor do que qualquer outra pessoa ao seu redor e não mostra sinais de um armário desordenado. Seu único obstáculo parece estar vencendo Costner. Finalmente, quando estamos bem além do meio do caminho, Costner nos conta sobre os fantasmas dos Kutchers. Somos informados de por que Kutcher é levado a ser o melhor sem pressentimentos ou presságios anteriores. Nenhuma mágica aqui, era tudo que eu podia fazer para não desligar uma hora.                                                                                                                                                                                                                                                                                                                                                                                                           |neg      |Once again Mr Costner has dragged out a movie for far longer than necessary Aside from the terrific sea rescue sequences of which there are very few I just did not care about any of the characters Most of us have ghosts in the closet and Costners character are realized early on and then forgotten until much later by which time I did not care The character we should really care about is a very cocky overconfident Ashton Kutcher The problem is he comes off as kid who thinks hes better than anyone else around him and shows no signs of a cluttered closet His only obstacle appears to be winning over Costner Finally when we are well past the half way point of this stinker Costner tells us all about Kutchers ghosts We are told why Kutcher is driven to be the best with no prior inkling or foreshadowing No magic here it was all I could do to keep from turning it off an hour in                                                                                                                                                                                                                                                                                                                                                                                                    |\n",
            "|2  |This is an example of why the majority of action films are the same. Generic and boring, theres really nothing worth watching here. A complete waste of the then barely-tapped talents of Ice-T and Ice Cube, whove each proven many times over that they are capable of acting, and acting well. Dont bother with this one, go see New Jack City, Ricochet or watch New York Undercover for Ice-T, or Boyz n the Hood, Higher Learning or Friday for Ice Cube and see the real deal. Ice-Ts horribly cliched dialogue alone makes this film grate at the teeth, and Im still wondering what the heck Bill Paxton was doing in this film? And why the heck does he always play the exact same character? From Aliens onward, every film Ive seen with Bill Paxton has him playing the exact same irritating character, and at least in Aliens his character died, which made it somewhat gratifying...Overall, this is second-rate action trash. There are countless better films to see, and if you really want to see this one, watch Judgement Night, which is practically a carbon copy but has better acting and a better script. The only thing that made this at all worth watching was a decent hand on the camera - the cinematography was almost refreshing, which comes close to making up for the horrible film itself - but not quite. 4/10.|Este é um exemplo do motivo pelo qual a maioria dos filmes de ação são os mesmos. Genérico e chato, não há nada que valha a pena assistir aqui. Um completo desperdício dos talentos de Ice-T e Cubo de Gelo que foram mal aproveitados, cada um comprovando que são capazes de atuar e agir bem. Não se incomode com este, vá ver New Jack City, Ricochet ou assistir New York Undercover para Ice-T, ou Boyz no Hood, Higher Learning ou Friday for Ice Cube e ver o negócio real. Ice-Ts horrivelmente clichê diálogo sozinho faz este filme ralar os dentes, e eu ainda estou me perguntando o que diabos Bill Paxton estava fazendo neste filme? E por que diabos ele sempre interpreta exatamente o mesmo personagem? Dos extraterrestres em diante, todos os filmes que eu vi com Bill Paxton o fizeram interpretar exatamente o mesmo personagem irritante, e pelo menos em Aliens seu personagem morreu, o que o tornou um pouco gratificante ... No geral, esse é lixo de ação de segunda classe. Existem incontáveis ​​filmes melhores para ver, e se você realmente quiser ver esse filme, assista a Judgment Night, que é praticamente uma cópia carbono, mas tem melhor atuação e um roteiro melhor. A única coisa que fez isso valer a pena assistir foi uma mão decente na câmera - a cinematografia era quase refrescante, o que chega perto de compensar o horrível filme em si - mas não é bem assim. 4/10|neg      |This is an example of why the majority of action films are the same Generic and boring theres really nothing worth watching here A complete waste of the then barelytapped talents of IceT and Ice Cube whove each proven many times over that they are capable of acting and acting well Dont bother with this one go see New Jack City Ricochet or watch New York Undercover for IceT or Boyz n the Hood Higher Learning or Friday for Ice Cube and see the real deal IceTs horribly cliched dialogue alone makes this film grate at the teeth and Im still wondering what the heck Bill Paxton was doing in this film And why the heck does he always play the exact same character From Aliens onward every film Ive seen with Bill Paxton has him playing the exact same irritating character and at least in Aliens his character died which made it somewhat gratifyingOverall this is secondrate action trash There are countless better films to see and if you really want to see this one watch Judgement Night which is practically a carbon copy but has better acting and a better script The only thing that made this at all worth watching was a decent hand on the camera  the cinematography was almost refreshing which comes close to making up for the horrible film itself  but not quite 410|\n",
            "+---+---------------------------------------------------------------------------------------------------------------------------------------------------------------------------------------------------------------------------------------------------------------------------------------------------------------------------------------------------------------------------------------------------------------------------------------------------------------------------------------------------------------------------------------------------------------------------------------------------------------------------------------------------------------------------------------------------------------------------------------------------------------------------------------------------------------------------------------------------------------------------------------------------------------------------------------------------------------------------------------------------------------------------------------------------------------------------------------------------------------------------------------------------------------------------------------------------------------------------------------------------------------------------------------------------------------------------------------------------------+-----------------------------------------------------------------------------------------------------------------------------------------------------------------------------------------------------------------------------------------------------------------------------------------------------------------------------------------------------------------------------------------------------------------------------------------------------------------------------------------------------------------------------------------------------------------------------------------------------------------------------------------------------------------------------------------------------------------------------------------------------------------------------------------------------------------------------------------------------------------------------------------------------------------------------------------------------------------------------------------------------------------------------------------------------------------------------------------------------------------------------------------------------------------------------------------------------------------------------------------------------------------------------------------------------------------------------------------------------------------------------------------------------------------------------+---------+--------------------------------------------------------------------------------------------------------------------------------------------------------------------------------------------------------------------------------------------------------------------------------------------------------------------------------------------------------------------------------------------------------------------------------------------------------------------------------------------------------------------------------------------------------------------------------------------------------------------------------------------------------------------------------------------------------------------------------------------------------------------------------------------------------------------------------------------------------------------------------------------------------------------------------------------------------------------------------------------------------------------------------------------------------------------------------------------------------------------------------------------------------------------------------------------------------------------------------------------------------------------------------------------------------------------+\n",
            "only showing top 2 rows\n",
            "\n"
          ]
        }
      ]
    },
    {
      "cell_type": "code",
      "source": [
        "dados = dados.withColumn(\"texto_limpo\", f.trim(dados.texto_regex))"
      ],
      "metadata": {
        "id": "qOVL91W6dlxJ"
      },
      "execution_count": 23,
      "outputs": []
    },
    {
      "cell_type": "markdown",
      "source": [
        "# **Tokenização**"
      ],
      "metadata": {
        "id": "I5QuRQh6eY9M"
      }
    },
    {
      "cell_type": "code",
      "source": [
        "from pyspark.ml.feature import Tokenizer\n",
        "\n",
        "tokenizer = Tokenizer(inputCol = 'texto_limpo', outputCol = 'tokens')\n",
        "tokenizado = tokenizer.transform(dados)"
      ],
      "metadata": {
        "id": "52MeILsRdxO0"
      },
      "execution_count": 24,
      "outputs": []
    },
    {
      "cell_type": "code",
      "source": [
        "tokenizado.select('texto_limpo', 'tokens').show()"
      ],
      "metadata": {
        "colab": {
          "base_uri": "https://localhost:8080/"
        },
        "id": "wBH96CGRe4UZ",
        "outputId": "1ded58d4-0eda-49fa-9989-a031e5286636"
      },
      "execution_count": 25,
      "outputs": [
        {
          "output_type": "stream",
          "name": "stdout",
          "text": [
            "+--------------------+--------------------+\n",
            "|         texto_limpo|              tokens|\n",
            "+--------------------+--------------------+\n",
            "|Once again Mr Cos...|[once, again, mr,...|\n",
            "|This is an exampl...|[this, is, an, ex...|\n",
            "|First of all I ha...|[first, of, all, ...|\n",
            "|Not even the Beat...|[not, even, the, ...|\n",
            "|Brass pictures mo...|[brass, pictures,...|\n",
            "|A funny thing hap...|[a, funny, thing,...|\n",
            "|This German horro...|[this, german, ho...|\n",
            "|Being a longtime ...|[being, a, longti...|\n",
            "|Tokyo Eyes tells ...|[tokyo, eyes, tel...|\n",
            "|Wealthy horse ran...|[wealthy, horse, ...|\n",
            "|Cage plays a drun...|[cage, plays, a, ...|\n",
            "|First of all I wo...|[first, of, all, ...|\n",
            "|So tell me  what ...|[so, tell, me, , ...|\n",
            "|A big disappointm...|[a, big, disappoi...|\n",
            "|This film is abso...|[this, film, is, ...|\n",
            "|Heres a decidedly...|[heres, a, decide...|\n",
            "|At the bottom end...|[at, the, bottom,...|\n",
            "|Earth has been de...|[earth, has, been...|\n",
            "|Many people are s...|[many, people, ar...|\n",
            "|New York family i...|[new, york, famil...|\n",
            "+--------------------+--------------------+\n",
            "only showing top 20 rows\n",
            "\n"
          ]
        }
      ]
    },
    {
      "cell_type": "code",
      "source": [
        "# Entendendo em quantos tokens os comentários foram divididos fazendo uma\n",
        "# contagem de tokens\n",
        "\n",
        "from pyspark.sql.types import IntegerType\n",
        "\n",
        "countTokens = f.udf(lambda tokens: len(tokens), IntegerType())\n",
        "tokenizado.select('texto_limpo', 'tokens')\\\n",
        "    .withColumn('Freq_tokens', countTokens(f.col('tokens')))\\\n",
        "    .show()"
      ],
      "metadata": {
        "colab": {
          "base_uri": "https://localhost:8080/"
        },
        "id": "bcN993Y3e__b",
        "outputId": "6f6dce98-d651-404a-eeae-3a2b4a626182"
      },
      "execution_count": 26,
      "outputs": [
        {
          "output_type": "stream",
          "name": "stdout",
          "text": [
            "+--------------------+--------------------+-----------+\n",
            "|         texto_limpo|              tokens|Freq_tokens|\n",
            "+--------------------+--------------------+-----------+\n",
            "|Once again Mr Cos...|[once, again, mr,...|        168|\n",
            "|This is an exampl...|[this, is, an, ex...|        232|\n",
            "|First of all I ha...|[first, of, all, ...|        215|\n",
            "|Not even the Beat...|[not, even, the, ...|        308|\n",
            "|Brass pictures mo...|[brass, pictures,...|        238|\n",
            "|A funny thing hap...|[a, funny, thing,...|        115|\n",
            "|This German horro...|[this, german, ho...|        156|\n",
            "|Being a longtime ...|[being, a, longti...|        136|\n",
            "|Tokyo Eyes tells ...|[tokyo, eyes, tel...|        129|\n",
            "|Wealthy horse ran...|[wealthy, horse, ...|        160|\n",
            "|Cage plays a drun...|[cage, plays, a, ...|        109|\n",
            "|First of all I wo...|[first, of, all, ...|        333|\n",
            "|So tell me  what ...|[so, tell, me, , ...|        243|\n",
            "|A big disappointm...|[a, big, disappoi...|        110|\n",
            "|This film is abso...|[this, film, is, ...|        185|\n",
            "|Heres a decidedly...|[heres, a, decide...|        205|\n",
            "|At the bottom end...|[at, the, bottom,...|        148|\n",
            "|Earth has been de...|[earth, has, been...|        196|\n",
            "|Many people are s...|[many, people, ar...|        350|\n",
            "|New York family i...|[new, york, famil...|         77|\n",
            "+--------------------+--------------------+-----------+\n",
            "only showing top 20 rows\n",
            "\n"
          ]
        }
      ]
    },
    {
      "cell_type": "markdown",
      "source": [
        "# **Remoção de palavras ruído**"
      ],
      "metadata": {
        "id": "oAuvc-YChFKN"
      }
    },
    {
      "cell_type": "code",
      "source": [
        "# Exemplo\n",
        "\n",
        "data = [(1, 'Spark é ótimo e NLP com Spark é fácil'),\n",
        "        (0, 'Spark MLlib não ajuda muito'),\n",
        "        (1, 'O MLlib do Spark ajuda e é fácil')]\n",
        "\n",
        "colNames = ['label', 'texto_limpo']\n",
        "df = spark.createDataFrame(data, colNames)"
      ],
      "metadata": {
        "id": "hxIW2aLrfbXm"
      },
      "execution_count": 27,
      "outputs": []
    },
    {
      "cell_type": "code",
      "source": [
        "# Comparando resultados com diferentes bibliotecas\n",
        "\n",
        "import nltk\n",
        "nltk.download('stopwords')\n",
        "from nltk.corpus import stopwords\n",
        "\n",
        "stop_A = stopwords.words('portuguese')"
      ],
      "metadata": {
        "colab": {
          "base_uri": "https://localhost:8080/"
        },
        "id": "Zu7gmLdhhgkY",
        "outputId": "a76d97ab-9e1b-4d9a-c563-260668215cb6"
      },
      "execution_count": 28,
      "outputs": [
        {
          "output_type": "stream",
          "name": "stderr",
          "text": [
            "[nltk_data] Downloading package stopwords to /root/nltk_data...\n",
            "[nltk_data]   Unzipping corpora/stopwords.zip.\n"
          ]
        }
      ]
    },
    {
      "cell_type": "code",
      "source": [
        "from pyspark.ml.feature import StopWordsRemover\n",
        "\n",
        "stop_B = StopWordsRemover.loadDefaultStopWords('portuguese')"
      ],
      "metadata": {
        "id": "gx-cRkF2h6to"
      },
      "execution_count": 29,
      "outputs": []
    },
    {
      "cell_type": "code",
      "source": [
        "from pyspark.ml.feature import Tokenizer\n",
        "\n",
        "tokenizer = Tokenizer(inputCol = 'texto_limpo', outputCol = 'tokens')\n",
        "tokenized = tokenizer.transform(df)"
      ],
      "metadata": {
        "id": "EjCWrLPEieRL"
      },
      "execution_count": 30,
      "outputs": []
    },
    {
      "cell_type": "code",
      "source": [
        "remover = StopWordsRemover(inputCol = 'tokens', outputCol = 'texto_final', stopWords = stop_A)\n",
        "df = remover.transform(tokenized)"
      ],
      "metadata": {
        "id": "aTciLR2rioqN"
      },
      "execution_count": 31,
      "outputs": []
    },
    {
      "cell_type": "code",
      "source": [
        "df.show(truncate=False)"
      ],
      "metadata": {
        "colab": {
          "base_uri": "https://localhost:8080/"
        },
        "id": "rvw2o6RtjLXU",
        "outputId": "be4d17af-da3a-451b-e3ca-20b6d651d69e"
      },
      "execution_count": 32,
      "outputs": [
        {
          "output_type": "stream",
          "name": "stdout",
          "text": [
            "+-----+-------------------------------------+-----------------------------------------------+---------------------------------+\n",
            "|label|texto_limpo                          |tokens                                         |texto_final                      |\n",
            "+-----+-------------------------------------+-----------------------------------------------+---------------------------------+\n",
            "|1    |Spark é ótimo e NLP com Spark é fácil|[spark, é, ótimo, e, nlp, com, spark, é, fácil]|[spark, ótimo, nlp, spark, fácil]|\n",
            "|0    |Spark MLlib não ajuda muito          |[spark, mllib, não, ajuda, muito]              |[spark, mllib, ajuda]            |\n",
            "|1    |O MLlib do Spark ajuda e é fácil     |[o, mllib, do, spark, ajuda, e, é, fácil]      |[mllib, spark, ajuda, fácil]     |\n",
            "+-----+-------------------------------------+-----------------------------------------------+---------------------------------+\n",
            "\n"
          ]
        }
      ]
    },
    {
      "cell_type": "code",
      "source": [
        "remover = StopWordsRemover(inputCol = 'tokens', outputCol = 'texto_final', stopWords = stop_B)\n",
        "df = remover.transform(tokenized)"
      ],
      "metadata": {
        "id": "Vw6dxZg4jM6e"
      },
      "execution_count": 33,
      "outputs": []
    },
    {
      "cell_type": "code",
      "source": [
        "df.show(truncate=False)"
      ],
      "metadata": {
        "colab": {
          "base_uri": "https://localhost:8080/"
        },
        "id": "RYfb9maWjWTg",
        "outputId": "c54c96d5-abf3-41ca-8b77-32fa8df4f9c6"
      },
      "execution_count": 34,
      "outputs": [
        {
          "output_type": "stream",
          "name": "stdout",
          "text": [
            "+-----+-------------------------------------+-----------------------------------------------+---------------------------------------+\n",
            "|label|texto_limpo                          |tokens                                         |texto_final                            |\n",
            "+-----+-------------------------------------+-----------------------------------------------+---------------------------------------+\n",
            "|1    |Spark é ótimo e NLP com Spark é fácil|[spark, é, ótimo, e, nlp, com, spark, é, fácil]|[spark, é, ótimo, nlp, spark, é, fácil]|\n",
            "|0    |Spark MLlib não ajuda muito          |[spark, mllib, não, ajuda, muito]              |[spark, mllib, ajuda]                  |\n",
            "|1    |O MLlib do Spark ajuda e é fácil     |[o, mllib, do, spark, ajuda, e, é, fácil]      |[mllib, spark, ajuda, é, fácil]        |\n",
            "+-----+-------------------------------------+-----------------------------------------------+---------------------------------------+\n",
            "\n"
          ]
        }
      ]
    },
    {
      "cell_type": "code",
      "source": [
        "remover = StopWordsRemover(inputCol = 'tokens', outputCol = 'texto_final')\n",
        "feature_data = remover.transform(tokenizado)"
      ],
      "metadata": {
        "id": "k00K5r3VjXzo"
      },
      "execution_count": 35,
      "outputs": []
    },
    {
      "cell_type": "code",
      "source": [
        "feature_data.show(11)"
      ],
      "metadata": {
        "colab": {
          "base_uri": "https://localhost:8080/"
        },
        "id": "V04zvGSuj2St",
        "outputId": "2646f605-4889-4aa8-9a72-5d68cc28c024"
      },
      "execution_count": 36,
      "outputs": [
        {
          "output_type": "stream",
          "name": "stdout",
          "text": [
            "+---+--------------------+--------------------+---------+--------------------+--------------------+--------------------+--------------------+\n",
            "| id|             text_en|             text_pt|sentiment|         texto_regex|         texto_limpo|              tokens|         texto_final|\n",
            "+---+--------------------+--------------------+---------+--------------------+--------------------+--------------------+--------------------+\n",
            "|  1|Once again Mr. Co...|Mais uma vez, o S...|      neg|Once again Mr Cos...|Once again Mr Cos...|[once, again, mr,...|[mr, costner, dra...|\n",
            "|  2|This is an exampl...|Este é um exemplo...|      neg|This is an exampl...|This is an exampl...|[this, is, an, ex...|[example, majorit...|\n",
            "|  3|First of all I ha...|Primeiro de tudo ...|      neg|First of all I ha...|First of all I ha...|[first, of, all, ...|[first, hate, mor...|\n",
            "|  4|Not even the Beat...|Nem mesmo os Beat...|      neg|Not even the Beat...|Not even the Beat...|[not, even, the, ...|[even, beatles, w...|\n",
            "|  5|Brass pictures mo...|Filmes de fotos d...|      neg|Brass pictures mo...|Brass pictures mo...|[brass, pictures,...|[brass, pictures,...|\n",
            "|  6|A funny thing hap...|Uma coisa engraça...|      neg|A funny thing hap...|A funny thing hap...|[a, funny, thing,...|[funny, thing, ha...|\n",
            "|  7|This German horro...|Este filme de ter...|      neg|This German horro...|This German horro...|[this, german, ho...|[german, horror, ...|\n",
            "|  8|Being a long-time...|Sendo um fã de lo...|      neg|Being a longtime ...|Being a longtime ...|[being, a, longti...|[longtime, fan, j...|\n",
            "|  9|\"Tokyo Eyes\" tell...|\"Tokyo Eyes\" fala...|      neg|Tokyo Eyes tells ...|Tokyo Eyes tells ...|[tokyo, eyes, tel...|[tokyo, eyes, tel...|\n",
            "| 10|Wealthy horse ran...|Fazendeiros ricos...|      neg|Wealthy horse ran...|Wealthy horse ran...|[wealthy, horse, ...|[wealthy, horse, ...|\n",
            "| 11|Cage plays a drun...|Cage interpreta u...|      neg|Cage plays a drun...|Cage plays a drun...|[cage, plays, a, ...|[cage, plays, dru...|\n",
            "+---+--------------------+--------------------+---------+--------------------+--------------------+--------------------+--------------------+\n",
            "only showing top 11 rows\n",
            "\n"
          ]
        }
      ]
    },
    {
      "cell_type": "code",
      "source": [
        "# Contando os tokens antes e depois de remover as stopwords\n",
        "\n",
        "feature_data.select('tokens', 'texto_final')\\\n",
        "    .withColumn('Freq_tokens', countTokens(f.col('tokens')))\\\n",
        "    .withColumn('Freq_tokens_limpos', countTokens(f.col('texto_final')))\\\n",
        "    .show()"
      ],
      "metadata": {
        "colab": {
          "base_uri": "https://localhost:8080/"
        },
        "id": "npa70X92j33O",
        "outputId": "96189793-d88d-4c20-d0f4-7bf811ef94d8"
      },
      "execution_count": 37,
      "outputs": [
        {
          "output_type": "stream",
          "name": "stdout",
          "text": [
            "+--------------------+--------------------+-----------+------------------+\n",
            "|              tokens|         texto_final|Freq_tokens|Freq_tokens_limpos|\n",
            "+--------------------+--------------------+-----------+------------------+\n",
            "|[once, again, mr,...|[mr, costner, dra...|        168|                73|\n",
            "|[this, is, an, ex...|[example, majorit...|        232|               131|\n",
            "|[first, of, all, ...|[first, hate, mor...|        215|               111|\n",
            "|[not, even, the, ...|[even, beatles, w...|        308|               169|\n",
            "|[brass, pictures,...|[brass, pictures,...|        238|               140|\n",
            "|[a, funny, thing,...|[funny, thing, ha...|        115|                52|\n",
            "|[this, german, ho...|[german, horror, ...|        156|                74|\n",
            "|[being, a, longti...|[longtime, fan, j...|        136|                73|\n",
            "|[tokyo, eyes, tel...|[tokyo, eyes, tel...|        129|                75|\n",
            "|[wealthy, horse, ...|[wealthy, horse, ...|        160|                99|\n",
            "|[cage, plays, a, ...|[cage, plays, dru...|        109|                58|\n",
            "|[first, of, all, ...|[first, like, say...|        333|               140|\n",
            "|[so, tell, me, , ...|[tell, , serious,...|        243|               139|\n",
            "|[a, big, disappoi...|[big, disappointm...|        110|                50|\n",
            "|[this, film, is, ...|[film, absolutely...|        185|               105|\n",
            "|[heres, a, decide...|[heres, decidedly...|        205|               112|\n",
            "|[at, the, bottom,...|[bottom, end, apo...|        148|                68|\n",
            "|[earth, has, been...|[earth, destroyed...|        196|               116|\n",
            "|[many, people, ar...|[many, people, st...|        350|               191|\n",
            "|[new, york, famil...|[new, york, famil...|         77|                48|\n",
            "+--------------------+--------------------+-----------+------------------+\n",
            "only showing top 20 rows\n",
            "\n"
          ]
        }
      ]
    },
    {
      "cell_type": "markdown",
      "source": [
        "# **Bag of Words**"
      ],
      "metadata": {
        "id": "DeHKAIoX0ykL"
      }
    },
    {
      "cell_type": "code",
      "source": [
        "from pyspark.ml.feature import CountVectorizer\n",
        "\n",
        "cv = CountVectorizer(inputCol='texto_final', outputCol='CountVec')\n",
        "model = cv.fit(df)\n",
        "df = model.transform(df)"
      ],
      "metadata": {
        "id": "vhB2TVKWkWL4"
      },
      "execution_count": 38,
      "outputs": []
    },
    {
      "cell_type": "code",
      "source": [
        "df.select('texto_final', 'CountVec').show(truncate=False)"
      ],
      "metadata": {
        "colab": {
          "base_uri": "https://localhost:8080/"
        },
        "id": "UQ43Uv9o1Sxz",
        "outputId": "d456e4d3-380d-4881-e4ff-6cb732cc1b80"
      },
      "execution_count": 39,
      "outputs": [
        {
          "output_type": "stream",
          "name": "stdout",
          "text": [
            "+---------------------------------------+-------------------------------------+\n",
            "|texto_final                            |CountVec                             |\n",
            "+---------------------------------------+-------------------------------------+\n",
            "|[spark, é, ótimo, nlp, spark, é, fácil]|(7,[0,1,3,5,6],[2.0,2.0,1.0,1.0,1.0])|\n",
            "|[spark, mllib, ajuda]                  |(7,[0,2,4],[1.0,1.0,1.0])            |\n",
            "|[mllib, spark, ajuda, é, fácil]        |(7,[0,1,2,3,4],[1.0,1.0,1.0,1.0,1.0])|\n",
            "+---------------------------------------+-------------------------------------+\n",
            "\n"
          ]
        }
      ]
    },
    {
      "cell_type": "code",
      "source": [
        "model.vocabulary"
      ],
      "metadata": {
        "colab": {
          "base_uri": "https://localhost:8080/"
        },
        "id": "LH0FnGkd1bkv",
        "outputId": "3fcf2b3a-59c3-4611-9b5f-4881bed1e3ac"
      },
      "execution_count": 40,
      "outputs": [
        {
          "output_type": "execute_result",
          "data": {
            "text/plain": [
              "['spark', 'é', 'mllib', 'fácil', 'ajuda', 'nlp', 'ótimo']"
            ]
          },
          "metadata": {},
          "execution_count": 40
        }
      ]
    },
    {
      "cell_type": "markdown",
      "source": [
        "# **CountVector**"
      ],
      "metadata": {
        "id": "c-EKXPOt2WeQ"
      }
    },
    {
      "cell_type": "code",
      "source": [
        "from pyspark.ml.feature import CountVectorizer\n",
        "\n",
        "cv = CountVectorizer(inputCol='texto_final', outputCol='CountVec')\n",
        "model = cv.fit(feature_data)\n",
        "countVectorizer_features = model.transform(feature_data)\n",
        "\n",
        "countVectorizer_features.select('texto_final', 'CountVec').show(5)"
      ],
      "metadata": {
        "colab": {
          "base_uri": "https://localhost:8080/"
        },
        "id": "75h9DWZm1pUE",
        "outputId": "c685b0b2-df80-4c38-fb5b-9cb6388eeb96"
      },
      "execution_count": 41,
      "outputs": [
        {
          "output_type": "stream",
          "name": "stdout",
          "text": [
            "+--------------------+--------------------+\n",
            "|         texto_final|            CountVec|\n",
            "+--------------------+--------------------+\n",
            "|[mr, costner, dra...|(216710,[0,7,8,11...|\n",
            "|[example, majorit...|(216710,[1,2,3,8,...|\n",
            "|[first, hate, mor...|(216710,[0,2,4,11...|\n",
            "|[even, beatles, w...|(216710,[0,1,2,4,...|\n",
            "|[brass, pictures,...|(216710,[1,3,5,8,...|\n",
            "+--------------------+--------------------+\n",
            "only showing top 5 rows\n",
            "\n"
          ]
        }
      ]
    },
    {
      "cell_type": "code",
      "source": [
        "model.vocabulary"
      ],
      "metadata": {
        "colab": {
          "base_uri": "https://localhost:8080/"
        },
        "id": "2bRWzEvY2yga",
        "outputId": "c0efdef5-4a27-4700-cd17-04c59aa84aac"
      },
      "execution_count": 42,
      "outputs": [
        {
          "output_type": "execute_result",
          "data": {
            "text/plain": [
              "['movie',\n",
              " 'film',\n",
              " 'one',\n",
              " '',\n",
              " 'like',\n",
              " 'good',\n",
              " 'even',\n",
              " 'time',\n",
              " 'really',\n",
              " 'see',\n",
              " 'story',\n",
              " 'much',\n",
              " 'well',\n",
              " 'get',\n",
              " 'great',\n",
              " 'bad',\n",
              " 'people',\n",
              " 'also',\n",
              " 'first',\n",
              " 'dont',\n",
              " 'movies',\n",
              " 'made',\n",
              " 'make',\n",
              " 'films',\n",
              " 'way',\n",
              " 'characters',\n",
              " 'think',\n",
              " 'watch',\n",
              " 'seen',\n",
              " 'many',\n",
              " 'two',\n",
              " 'never',\n",
              " 'character',\n",
              " 'acting',\n",
              " 'love',\n",
              " 'plot',\n",
              " 'little',\n",
              " 'best',\n",
              " 'know',\n",
              " 'show',\n",
              " 'ever',\n",
              " 'life',\n",
              " 'better',\n",
              " 'say',\n",
              " 'still',\n",
              " 'end',\n",
              " 'scene',\n",
              " 'scenes',\n",
              " 'man',\n",
              " 'something',\n",
              " 'go',\n",
              " 'im',\n",
              " 'watching',\n",
              " 'back',\n",
              " 'real',\n",
              " 'thing',\n",
              " 'actors',\n",
              " 'didnt',\n",
              " 'doesnt',\n",
              " 'years',\n",
              " 'funny',\n",
              " 'actually',\n",
              " 'though',\n",
              " 'makes',\n",
              " 'find',\n",
              " 'nothing',\n",
              " 'another',\n",
              " 'look',\n",
              " 'lot',\n",
              " 'going',\n",
              " 'work',\n",
              " 'new',\n",
              " 'every',\n",
              " 'old',\n",
              " 'part',\n",
              " 'cant',\n",
              " 'us',\n",
              " 'want',\n",
              " 'pretty',\n",
              " 'director',\n",
              " 'quite',\n",
              " 'thats',\n",
              " 'cast',\n",
              " 'things',\n",
              " 'got',\n",
              " 'seems',\n",
              " 'young',\n",
              " 'around',\n",
              " 'take',\n",
              " 'fact',\n",
              " 'thought',\n",
              " 'enough',\n",
              " 'world',\n",
              " 'big',\n",
              " 'give',\n",
              " 'horror',\n",
              " 'ive',\n",
              " 'may',\n",
              " 'saw',\n",
              " 'however',\n",
              " 'isnt',\n",
              " 'always',\n",
              " 'long',\n",
              " 'without',\n",
              " 'gets',\n",
              " 'music',\n",
              " 'original',\n",
              " 'comedy',\n",
              " 'must',\n",
              " 'right',\n",
              " 'almost',\n",
              " 'times',\n",
              " 'come',\n",
              " 'whole',\n",
              " 'series',\n",
              " 'interesting',\n",
              " 'least',\n",
              " 'role',\n",
              " 'guy',\n",
              " 'bit',\n",
              " 'action',\n",
              " 'done',\n",
              " 'theres',\n",
              " 'point',\n",
              " 'might',\n",
              " 'script',\n",
              " 'minutes',\n",
              " 'far',\n",
              " 'feel',\n",
              " 'anything',\n",
              " 'hes',\n",
              " 'probably',\n",
              " 'family',\n",
              " 'since',\n",
              " 'last',\n",
              " 'kind',\n",
              " 'performance',\n",
              " 'tv',\n",
              " 'worst',\n",
              " 'away',\n",
              " 'fun',\n",
              " 'rather',\n",
              " 'anyone',\n",
              " 'found',\n",
              " 'sure',\n",
              " 'yet',\n",
              " 'played',\n",
              " 'girl',\n",
              " 'making',\n",
              " 'believe',\n",
              " 'especially',\n",
              " 'shows',\n",
              " 'woman',\n",
              " 'trying',\n",
              " 'hard',\n",
              " 'course',\n",
              " 'goes',\n",
              " 'comes',\n",
              " 'worth',\n",
              " 'day',\n",
              " 'put',\n",
              " 'dvd',\n",
              " 'everything',\n",
              " 'looking',\n",
              " 'although',\n",
              " 'different',\n",
              " 'watched',\n",
              " 'main',\n",
              " 'ending',\n",
              " 'wasnt',\n",
              " 'maybe',\n",
              " 'looks',\n",
              " 'book',\n",
              " 'place',\n",
              " 'reason',\n",
              " 'effects',\n",
              " 'money',\n",
              " 'three',\n",
              " 'plays',\n",
              " 'sense',\n",
              " 'screen',\n",
              " 'someone',\n",
              " 'true',\n",
              " 'set',\n",
              " 'job',\n",
              " 'play',\n",
              " '10',\n",
              " 'actor',\n",
              " 'together',\n",
              " '2',\n",
              " 'seem',\n",
              " 'said',\n",
              " 'everyone',\n",
              " 'takes',\n",
              " 'special',\n",
              " 'seeing',\n",
              " 'beautiful',\n",
              " 'american',\n",
              " 'instead',\n",
              " 'excellent',\n",
              " 'left',\n",
              " 'later',\n",
              " 'audience',\n",
              " 'version',\n",
              " 'john',\n",
              " 'idea',\n",
              " 'night',\n",
              " 'war',\n",
              " 'fan',\n",
              " 'youre',\n",
              " 'high',\n",
              " 'shot',\n",
              " 'black',\n",
              " 'completely',\n",
              " 'nice',\n",
              " 'used',\n",
              " 'simply',\n",
              " 'poor',\n",
              " 'read',\n",
              " 'kids',\n",
              " 'else',\n",
              " 'wife',\n",
              " 'friends',\n",
              " 'house',\n",
              " 'death',\n",
              " 'short',\n",
              " 'along',\n",
              " 'help',\n",
              " 'enjoy',\n",
              " 'boring',\n",
              " 'second',\n",
              " 'half',\n",
              " 'try',\n",
              " 'mind',\n",
              " 'star',\n",
              " 'recommend',\n",
              " 'year',\n",
              " 'home',\n",
              " 'need',\n",
              " 'less',\n",
              " 'classic',\n",
              " 'use',\n",
              " 'given',\n",
              " 'men',\n",
              " 'truly',\n",
              " 'performances',\n",
              " 'rest',\n",
              " 'stupid',\n",
              " 'either',\n",
              " 'production',\n",
              " 'line',\n",
              " 'couple',\n",
              " 'wrong',\n",
              " 'start',\n",
              " 'hollywood',\n",
              " 'came',\n",
              " 'tell',\n",
              " 'dead',\n",
              " 'getting',\n",
              " 'remember',\n",
              " 'understand',\n",
              " 'next',\n",
              " 'father',\n",
              " 'terrible',\n",
              " 'women',\n",
              " 'awful',\n",
              " 'school',\n",
              " 'full',\n",
              " 'let',\n",
              " 'keep',\n",
              " 'wonderful',\n",
              " 'mean',\n",
              " 'sex',\n",
              " 'camera',\n",
              " 'moments',\n",
              " 'others',\n",
              " 'video',\n",
              " 'playing',\n",
              " 'budget',\n",
              " 'definitely',\n",
              " 'episode',\n",
              " 'perhaps',\n",
              " 'couldnt',\n",
              " 'name',\n",
              " 'perfect',\n",
              " 'small',\n",
              " 'top',\n",
              " 'absolutely',\n",
              " 'gives',\n",
              " 'went',\n",
              " 'often',\n",
              " 'early',\n",
              " 'piece',\n",
              " 'person',\n",
              " 'liked',\n",
              " 'lines',\n",
              " 'dialogue',\n",
              " 'guys',\n",
              " 'stars',\n",
              " 'human',\n",
              " 'loved',\n",
              " 'certainly',\n",
              " 'face',\n",
              " 'case',\n",
              " 'hope',\n",
              " 'sort',\n",
              " 'felt',\n",
              " 'supposed',\n",
              " 'waste',\n",
              " 'head',\n",
              " 'laugh',\n",
              " 'become',\n",
              " 'live',\n",
              " 'entertaining',\n",
              " 'entire',\n",
              " 'several',\n",
              " 'worse',\n",
              " 'lost',\n",
              " 'written',\n",
              " 'picture',\n",
              " 'style',\n",
              " 'title',\n",
              " 'mother',\n",
              " 'seemed',\n",
              " 'totally',\n",
              " 'boy',\n",
              " 'friend',\n",
              " 'sound',\n",
              " 'based',\n",
              " 'finally',\n",
              " 'yes',\n",
              " 'beginning',\n",
              " 'problem',\n",
              " 'shes',\n",
              " 'mr',\n",
              " 'dark',\n",
              " 'wanted',\n",
              " 'humor',\n",
              " 'care',\n",
              " 'youll',\n",
              " 'â',\n",
              " 'cinema',\n",
              " 'guess',\n",
              " 'fans',\n",
              " 'wont',\n",
              " '3',\n",
              " 'direction',\n",
              " 'lead',\n",
              " 'low',\n",
              " 'children',\n",
              " 'id',\n",
              " 'already',\n",
              " 'called',\n",
              " 'lives',\n",
              " 'evil',\n",
              " 'drama',\n",
              " 'example',\n",
              " 'becomes',\n",
              " 'oh',\n",
              " 'able',\n",
              " 'turn',\n",
              " 'final',\n",
              " 'game',\n",
              " 'girls',\n",
              " 'throughout',\n",
              " 'horrible',\n",
              " 'white',\n",
              " 'days',\n",
              " 'fine',\n",
              " 'quality',\n",
              " 'wants',\n",
              " 'amazing',\n",
              " 'enjoyed',\n",
              " 'writing',\n",
              " 'despite',\n",
              " 'gave',\n",
              " 'killer',\n",
              " 'flick',\n",
              " 'theyre',\n",
              " 'history',\n",
              " 'tries',\n",
              " 'kill',\n",
              " 'works',\n",
              " 'favorite',\n",
              " 'parts',\n",
              " 'turns',\n",
              " 'michael',\n",
              " 'unfortunately',\n",
              " 'act',\n",
              " 'expect',\n",
              " 'son',\n",
              " 'side',\n",
              " 'past',\n",
              " 'matter',\n",
              " 'brilliant',\n",
              " '1',\n",
              " 'run',\n",
              " 'stuff',\n",
              " 'behind',\n",
              " 'town',\n",
              " 'car',\n",
              " 'ones',\n",
              " 'obviously',\n",
              " 'eyes',\n",
              " 'sometimes',\n",
              " 'starts',\n",
              " 'thinking',\n",
              " 'killed',\n",
              " 'decent',\n",
              " 'actress',\n",
              " 'overall',\n",
              " 'viewer',\n",
              " 'heard',\n",
              " 'directed',\n",
              " 'took',\n",
              " 'heart',\n",
              " 'soon',\n",
              " 'late',\n",
              " 'group',\n",
              " 'art',\n",
              " 'highly',\n",
              " 'kid',\n",
              " 'genre',\n",
              " 'city',\n",
              " 'hell',\n",
              " 'child',\n",
              " 'feeling',\n",
              " 'says',\n",
              " 'happens',\n",
              " 'except',\n",
              " 'extremely',\n",
              " 'ill',\n",
              " 'fight',\n",
              " 'wouldnt',\n",
              " 'told',\n",
              " 'etc',\n",
              " 'looked',\n",
              " 'blood',\n",
              " 'hour',\n",
              " 'close',\n",
              " 'lack',\n",
              " 'experience',\n",
              " 'leave',\n",
              " 'wonder',\n",
              " 'coming',\n",
              " 'type',\n",
              " 'involved',\n",
              " 'police',\n",
              " 'save',\n",
              " 'stories',\n",
              " 'chance',\n",
              " 'strong',\n",
              " 'particularly',\n",
              " 'cool',\n",
              " 'complete',\n",
              " 'hilarious',\n",
              " 'daughter',\n",
              " 'score',\n",
              " 'roles',\n",
              " 'moment',\n",
              " 'serious',\n",
              " 'happened',\n",
              " 'simple',\n",
              " 'happen',\n",
              " 'including',\n",
              " 'living',\n",
              " 'attempt',\n",
              " 'hand',\n",
              " 'obvious',\n",
              " 'stop',\n",
              " 'shown',\n",
              " 'violence',\n",
              " 'taken',\n",
              " 'ago',\n",
              " 'god',\n",
              " 'ok',\n",
              " 'jokes',\n",
              " 'usually',\n",
              " 'wish',\n",
              " 'known',\n",
              " 'voice',\n",
              " 'james',\n",
              " 'slow',\n",
              " 'murder',\n",
              " 'song',\n",
              " 'released',\n",
              " 'exactly',\n",
              " 'across',\n",
              " 'crap',\n",
              " 'robert',\n",
              " 'cinematography',\n",
              " 'huge',\n",
              " 'sad',\n",
              " 'hours',\n",
              " 'saying',\n",
              " 'interest',\n",
              " 'number',\n",
              " 'david',\n",
              " 'opening',\n",
              " 'annoying',\n",
              " 'english',\n",
              " 'seriously',\n",
              " 'please',\n",
              " 'gore',\n",
              " 'talent',\n",
              " 'started',\n",
              " 'order',\n",
              " 'none',\n",
              " 'lets',\n",
              " 'reality',\n",
              " 'relationship',\n",
              " 'alone',\n",
              " 'age',\n",
              " 'ridiculous',\n",
              " 'whose',\n",
              " 'usual',\n",
              " 'running',\n",
              " 'hit',\n",
              " 'call',\n",
              " 'shots',\n",
              " 'today',\n",
              " 'possible',\n",
              " 'cut',\n",
              " 'major',\n",
              " 'documentary',\n",
              " 'female',\n",
              " 'career',\n",
              " 'brother',\n",
              " 'knew',\n",
              " 'somewhat',\n",
              " 'mostly',\n",
              " 'ends',\n",
              " 'silly',\n",
              " 'view',\n",
              " 'beyond',\n",
              " 'turned',\n",
              " 'opinion',\n",
              " 'body',\n",
              " 'taking',\n",
              " 'change',\n",
              " 'important',\n",
              " 'strange',\n",
              " 'scary',\n",
              " '5',\n",
              " 'words',\n",
              " 'hero',\n",
              " 'husband',\n",
              " 'due',\n",
              " 'word',\n",
              " 'finds',\n",
              " 'anyway',\n",
              " 'knows',\n",
              " 'episodes',\n",
              " 'attention',\n",
              " 'talking',\n",
              " 'disappointed',\n",
              " 'local',\n",
              " 'cheap',\n",
              " '4',\n",
              " 'happy',\n",
              " 'directors',\n",
              " 'country',\n",
              " 'power',\n",
              " 'basically',\n",
              " 'arent',\n",
              " 'four',\n",
              " 'apparently',\n",
              " 'television',\n",
              " 'musical',\n",
              " 'novel',\n",
              " 'single',\n",
              " 'clearly',\n",
              " 'problems',\n",
              " 'upon',\n",
              " 'level',\n",
              " 'miss',\n",
              " 'british',\n",
              " 'events',\n",
              " 'room',\n",
              " 'predictable',\n",
              " 'dialog',\n",
              " 'rating',\n",
              " 'tells',\n",
              " 'songs',\n",
              " 'jack',\n",
              " 'havent',\n",
              " 'french',\n",
              " 'add',\n",
              " 'whats',\n",
              " 'review',\n",
              " 'modern',\n",
              " 'lots',\n",
              " 'light',\n",
              " 'talk',\n",
              " 'soundtrack',\n",
              " 'similar',\n",
              " 'mention',\n",
              " 'sets',\n",
              " 'bring',\n",
              " 'enjoyable',\n",
              " 'hate',\n",
              " 'supporting',\n",
              " 'surprised',\n",
              " 'giving',\n",
              " 'falls',\n",
              " 'sequence',\n",
              " 'easily',\n",
              " 'ten',\n",
              " 'bunch',\n",
              " 'whether',\n",
              " 'storyline',\n",
              " 'entertainment',\n",
              " 'george',\n",
              " 'moving',\n",
              " 'romantic',\n",
              " 'future',\n",
              " 'viewers',\n",
              " 'needs',\n",
              " 'filmed',\n",
              " 'parents',\n",
              " 'message',\n",
              " 'dull',\n",
              " 'appears',\n",
              " 'comic',\n",
              " 'tried',\n",
              " 'five',\n",
              " 'certain',\n",
              " 'sequel',\n",
              " 'showing',\n",
              " 'theater',\n",
              " 'team',\n",
              " 'earth',\n",
              " 'clear',\n",
              " 'middle',\n",
              " 'thriller',\n",
              " 'within',\n",
              " 'kept',\n",
              " 'buy',\n",
              " 'space',\n",
              " 'stay',\n",
              " 'king',\n",
              " 'comments',\n",
              " 'among',\n",
              " 'sorry',\n",
              " 'fall',\n",
              " 'monster',\n",
              " 'named',\n",
              " 'greatest',\n",
              " 'theme',\n",
              " 'typical',\n",
              " 'easy',\n",
              " 'release',\n",
              " 'ways',\n",
              " 'feels',\n",
              " 'gone',\n",
              " 'doubt',\n",
              " 'near',\n",
              " 'writer',\n",
              " '80s',\n",
              " 'effort',\n",
              " 'working',\n",
              " 'fantastic',\n",
              " 'suspense',\n",
              " 'using',\n",
              " 'deal',\n",
              " 'realistic',\n",
              " 'elements',\n",
              " 'actual',\n",
              " 'tale',\n",
              " 'editing',\n",
              " 'means',\n",
              " 'youve',\n",
              " 'reviews',\n",
              " 'nearly',\n",
              " 'imagine',\n",
              " 'subject',\n",
              " 'famous',\n",
              " 'straight',\n",
              " 'class',\n",
              " 'viewing',\n",
              " 'boys',\n",
              " 'die',\n",
              " 'leads',\n",
              " 'rent',\n",
              " 'lady',\n",
              " 'dr',\n",
              " 'points',\n",
              " 'brought',\n",
              " 'check',\n",
              " 'rock',\n",
              " 'mystery',\n",
              " 'move',\n",
              " 'sister',\n",
              " 'peter',\n",
              " 'richard',\n",
              " 'feature',\n",
              " 'hear',\n",
              " 'somehow',\n",
              " 'dog',\n",
              " 'material',\n",
              " 'form',\n",
              " 'forget',\n",
              " 'sit',\n",
              " 'whos',\n",
              " 'general',\n",
              " 'weak',\n",
              " 'decided',\n",
              " 'premise',\n",
              " 'learn',\n",
              " 'believable',\n",
              " 'surprise',\n",
              " 'killing',\n",
              " 'avoid',\n",
              " 'expected',\n",
              " 'begins',\n",
              " 'wait',\n",
              " 'animation',\n",
              " 'lame',\n",
              " 'fast',\n",
              " 'figure',\n",
              " 'period',\n",
              " 'atmosphere',\n",
              " 'particular',\n",
              " 'okay',\n",
              " 'average',\n",
              " 'sequences',\n",
              " 'poorly',\n",
              " 'difficult',\n",
              " 'crime',\n",
              " 'deep',\n",
              " 'paul',\n",
              " 'york',\n",
              " 'eye',\n",
              " 'shame',\n",
              " 'possibly',\n",
              " 'became',\n",
              " 'tom',\n",
              " 'follow',\n",
              " 'truth',\n",
              " 'eventually',\n",
              " 'dance',\n",
              " 'stand',\n",
              " 'leaves',\n",
              " 'scifi',\n",
              " 'cheesy',\n",
              " 'red',\n",
              " 'oscar',\n",
              " 'emotional',\n",
              " 'indeed',\n",
              " 'reading',\n",
              " 'situation',\n",
              " 'features',\n",
              " 'write',\n",
              " 'interested',\n",
              " 'minute',\n",
              " 'meet',\n",
              " 'forced',\n",
              " 'season',\n",
              " 'needed',\n",
              " 'imdb',\n",
              " 'crew',\n",
              " 'footage',\n",
              " 'romance',\n",
              " 'doctor',\n",
              " 'writers',\n",
              " 'whatever',\n",
              " 'hot',\n",
              " 'sexual',\n",
              " 'memorable',\n",
              " 'previous',\n",
              " 'open',\n",
              " 'gay',\n",
              " 'begin',\n",
              " 'total',\n",
              " 'superb',\n",
              " 'keeps',\n",
              " 'meets',\n",
              " 'comment',\n",
              " 'weird',\n",
              " 'beauty',\n",
              " 'unless',\n",
              " 'incredibly',\n",
              " 'filmmakers',\n",
              " 'credits',\n",
              " 'laughs',\n",
              " 'male',\n",
              " 'note',\n",
              " 'otherwise',\n",
              " '20',\n",
              " 'copy',\n",
              " 'personal',\n",
              " 'third',\n",
              " 'sounds',\n",
              " 'badly',\n",
              " 'box',\n",
              " 'street',\n",
              " 'western',\n",
              " 'plus',\n",
              " 'question',\n",
              " 'island',\n",
              " 'perfectly',\n",
              " 'de',\n",
              " 'plenty',\n",
              " 'towards',\n",
              " 'society',\n",
              " 'result',\n",
              " 'screenplay',\n",
              " 'hands',\n",
              " 'worked',\n",
              " 'masterpiece',\n",
              " 'inside',\n",
              " 'nature',\n",
              " 'realize',\n",
              " 'japanese',\n",
              " 'crazy',\n",
              " 'effect',\n",
              " 'quickly',\n",
              " 'older',\n",
              " 'stage',\n",
              " 'unique',\n",
              " 'b',\n",
              " 'admit',\n",
              " 'setting',\n",
              " 'acted',\n",
              " 'air',\n",
              " 'fairly',\n",
              " 'america',\n",
              " 'brings',\n",
              " 'free',\n",
              " 'background',\n",
              " 'creepy',\n",
              " 'portrayed',\n",
              " 'directing',\n",
              " 'earlier',\n",
              " 'spent',\n",
              " 'forward',\n",
              " 'ask',\n",
              " 'remake',\n",
              " 'powerful',\n",
              " 'battle',\n",
              " 'various',\n",
              " 'following',\n",
              " 'appear',\n",
              " 'leading',\n",
              " 'joke',\n",
              " 'baby',\n",
              " 'bill',\n",
              " 'pay',\n",
              " 'expecting',\n",
              " 'deserves',\n",
              " 'wasted',\n",
              " 'mess',\n",
              " 'rich',\n",
              " 'dumb',\n",
              " 'front',\n",
              " 'cover',\n",
              " 'lee',\n",
              " 'development',\n",
              " 'dramatic',\n",
              " '70s',\n",
              " 'mark',\n",
              " 'manages',\n",
              " 'fails',\n",
              " 'meant',\n",
              " 'attempts',\n",
              " 'business',\n",
              " 'joe',\n",
              " 'agree',\n",
              " 'reasons',\n",
              " 'cop',\n",
              " 'caught',\n",
              " 'water',\n",
              " 'missing',\n",
              " 'hardly',\n",
              " 'twist',\n",
              " 'recently',\n",
              " 'fire',\n",
              " 'laughing',\n",
              " 'plain',\n",
              " 'girlfriend',\n",
              " 'cute',\n",
              " 'return',\n",
              " 'apart',\n",
              " 'talented',\n",
              " 'brothers',\n",
              " 'clever',\n",
              " 'william',\n",
              " 'present',\n",
              " 'fighting',\n",
              " 'secret',\n",
              " 'outside',\n",
              " 'political',\n",
              " 'success',\n",
              " 'la',\n",
              " 'ideas',\n",
              " 'pure',\n",
              " 'ended',\n",
              " 'large',\n",
              " 'party',\n",
              " 'create',\n",
              " 'waiting',\n",
              " 'members',\n",
              " 'telling',\n",
              " 'disney',\n",
              " 'odd',\n",
              " 'incredible',\n",
              " 'potential',\n",
              " 'married',\n",
              " 'missed',\n",
              " 'german',\n",
              " 'casting',\n",
              " 'pace',\n",
              " 'cartoon',\n",
              " 'break',\n",
              " 'nudity',\n",
              " 'italian',\n",
              " 'unlike',\n",
              " 'zombie',\n",
              " 'dream',\n",
              " 'escape',\n",
              " 'hold',\n",
              " 'slightly',\n",
              " 'cause',\n",
              " 'created',\n",
              " 'visual',\n",
              " 'van',\n",
              " 'considering',\n",
              " 'public',\n",
              " 'list',\n",
              " 'villain',\n",
              " 'familiar',\n",
              " 'bored',\n",
              " 'gun',\n",
              " 'wrote',\n",
              " 'appreciate',\n",
              " 'decides',\n",
              " 'died',\n",
              " 'mentioned',\n",
              " 'era',\n",
              " 'producers',\n",
              " 'speak',\n",
              " 'dancing',\n",
              " 'rate',\n",
              " 'intelligent',\n",
              " 'uses',\n",
              " 'compared',\n",
              " 'biggest',\n",
              " 'amount',\n",
              " 'produced',\n",
              " 'credit',\n",
              " 'popular',\n",
              " 'follows',\n",
              " 'convincing',\n",
              " 'fantasy',\n",
              " 'store',\n",
              " 'train',\n",
              " 'sees',\n",
              " 'state',\n",
              " 'value',\n",
              " 'moves',\n",
              " 'neither',\n",
              " 'entirely',\n",
              " 'portrayal',\n",
              " 'flat',\n",
              " 'company',\n",
              " 'sadly',\n",
              " 'office',\n",
              " 'college',\n",
              " 'common',\n",
              " 'fit',\n",
              " 'younger',\n",
              " 'spend',\n",
              " 'sweet',\n",
              " 'former',\n",
              " 'tension',\n",
              " 'christmas',\n",
              " 'trouble',\n",
              " 'kills',\n",
              " 'choice',\n",
              " 'science',\n",
              " 'match',\n",
              " 'mad',\n",
              " 'violent',\n",
              " 'social',\n",
              " 'recent',\n",
              " 'language',\n",
              " 'cold',\n",
              " 'amusing',\n",
              " 'decide',\n",
              " 'basic',\n",
              " 'concept',\n",
              " 'fear',\n",
              " 'filled',\n",
              " '12',\n",
              " 'suddenly',\n",
              " 'images',\n",
              " 'successful',\n",
              " 'positive',\n",
              " 'awesome',\n",
              " 'situations',\n",
              " ...]"
            ]
          },
          "metadata": {},
          "execution_count": 42
        }
      ]
    },
    {
      "cell_type": "markdown",
      "source": [
        "# **Hashing TF - Alternativa ao CountVector**"
      ],
      "metadata": {
        "id": "jjtau0Pf35nt"
      }
    },
    {
      "cell_type": "code",
      "source": [
        "from pyspark.ml.feature import HashingTF\n",
        "\n",
        "hashingTF = HashingTF(inputCol='texto_final', outputCol='hashingTF')\n",
        "hashingTF.setNumFeatures(50)\n",
        "\n",
        "HTFfeaturizedData = hashingTF.transform(countVectorizer_features)"
      ],
      "metadata": {
        "id": "Xi7CTRbT3yG7"
      },
      "execution_count": 43,
      "outputs": []
    },
    {
      "cell_type": "code",
      "source": [
        "HTFfeaturizedData.select('texto_final', 'hashingTF').show(5)"
      ],
      "metadata": {
        "colab": {
          "base_uri": "https://localhost:8080/"
        },
        "id": "97-n0NLV4yhF",
        "outputId": "0ab17306-0d4d-486e-8f5c-9080b75d7f9d"
      },
      "execution_count": 44,
      "outputs": [
        {
          "output_type": "stream",
          "name": "stdout",
          "text": [
            "+--------------------+--------------------+\n",
            "|         texto_final|           hashingTF|\n",
            "+--------------------+--------------------+\n",
            "|[mr, costner, dra...|(50,[0,5,6,7,8,10...|\n",
            "|[example, majorit...|(50,[0,1,2,3,4,5,...|\n",
            "|[first, hate, mor...|(50,[0,1,2,3,5,6,...|\n",
            "|[even, beatles, w...|(50,[0,1,2,3,4,5,...|\n",
            "|[brass, pictures,...|(50,[0,1,2,3,4,5,...|\n",
            "+--------------------+--------------------+\n",
            "only showing top 5 rows\n",
            "\n"
          ]
        }
      ]
    },
    {
      "cell_type": "markdown",
      "source": [
        "# **TF-IDF - ponderando os dados**"
      ],
      "metadata": {
        "id": "7NdWxQ3r5_8d"
      }
    },
    {
      "cell_type": "code",
      "source": [
        "from pyspark.ml.feature import IDF\n",
        "\n",
        "idf = IDF(inputCol='hashingTF', outputCol='features')\n",
        "idfModel = idf.fit(HTFfeaturizedData)\n",
        "TFIDFfeaturizedData = idfModel.transform(HTFfeaturizedData)"
      ],
      "metadata": {
        "id": "-k558kZK4-vp"
      },
      "execution_count": 45,
      "outputs": []
    },
    {
      "cell_type": "code",
      "source": [
        "TFIDFfeaturizedData.select('texto_final', 'features').show(5, truncate=False)"
      ],
      "metadata": {
        "colab": {
          "base_uri": "https://localhost:8080/"
        },
        "id": "uBtAaS1-6f5o",
        "outputId": "70cb5c0b-26af-448a-a128-0e5c617b0325"
      },
      "execution_count": 46,
      "outputs": [
        {
          "output_type": "stream",
          "name": "stdout",
          "text": [
            "+-------------------------------------------------------------------------------------------------------------------------------------------------------------------------------------------------------------------------------------------------------------------------------------------------------------------------------------------------------------------------------------------------------------------------------------------------------------------------------------------------------------------------------------------------------------------------------------------------------------------------------------------------------------------------------------------------------------------------------------------------------------------------------------------------------------------------------------------------------------------------------------------------------------------------------------------------------------------------------------------------------------------------------------------------------------------------------------------------------------------------------------------------------------------------------------------------------------------------------------------------------------------------------------------------------------------+---------------------------------------------------------------------------------------------------------------------------------------------------------------------------------------------------------------------------------------------------------------------------------------------------------------------------------------------------------------------------------------------------------------------------------------------------------------------------------------------------------------------------------------------------------------------------------------------------------------------------------------------------------------------------------------------------------------------------------------------------------------------------------------------------------------------------------------------------------------------------------------------------------------------------------------------------------------------------------------------------------------------------------------------------------------------------------------------+\n",
            "|texto_final                                                                                                                                                                                                                                                                                                                                                                                                                                                                                                                                                                                                                                                                                                                                                                                                                                                                                                                                                                                                                                                                                                                                                                                                                                                                                                        |features                                                                                                                                                                                                                                                                                                                                                                                                                                                                                                                                                                                                                                                                                                                                                                                                                                                                                                                                                                                                                                                                                     |\n",
            "+-------------------------------------------------------------------------------------------------------------------------------------------------------------------------------------------------------------------------------------------------------------------------------------------------------------------------------------------------------------------------------------------------------------------------------------------------------------------------------------------------------------------------------------------------------------------------------------------------------------------------------------------------------------------------------------------------------------------------------------------------------------------------------------------------------------------------------------------------------------------------------------------------------------------------------------------------------------------------------------------------------------------------------------------------------------------------------------------------------------------------------------------------------------------------------------------------------------------------------------------------------------------------------------------------------------------+---------------------------------------------------------------------------------------------------------------------------------------------------------------------------------------------------------------------------------------------------------------------------------------------------------------------------------------------------------------------------------------------------------------------------------------------------------------------------------------------------------------------------------------------------------------------------------------------------------------------------------------------------------------------------------------------------------------------------------------------------------------------------------------------------------------------------------------------------------------------------------------------------------------------------------------------------------------------------------------------------------------------------------------------------------------------------------------------+\n",
            "|[mr, costner, dragged, movie, far, longer, necessary, aside, terrific, sea, rescue, sequences, care, characters, us, ghosts, closet, costners, character, realized, early, forgotten, much, later, time, care, character, really, care, cocky, overconfident, ashton, kutcher, problem, comes, kid, thinks, hes, better, anyone, else, around, shows, signs, cluttered, closet, obstacle, appears, winning, costner, finally, well, past, half, way, point, stinker, costner, tells, us, kutchers, ghosts, told, kutcher, driven, best, prior, inkling, foreshadowing, magic, keep, turning, hour]                                                                                                                                                                                                                                                                                                                                                                                                                                                                                                                                                                                                                                                                                                                 |(50,[0,5,6,7,8,10,11,12,13,15,16,17,19,21,22,23,24,25,26,27,29,30,31,33,34,35,37,38,39,40,41,42,43,44,47,48,49],[0.22233514383283537,0.1998375969275785,0.17619398783498014,0.5587548927975542,0.5741244698743148,1.5157760793134183,1.307304913409321,0.1603567151189746,0.20230972495725574,0.31029723321704944,1.581846945779354,0.9550285132417945,0.248197000328582,0.42671641869152205,1.382464882404761,0.21807654777114394,0.2690668220783183,0.2519876373319553,0.21421166317304804,0.3778202733257666,0.6544375621431859,0.2057561660166335,0.30481136565707384,0.5127868952107937,0.19643606542499614,0.4586076262978574,0.25388835783440905,0.22549670195156435,0.11406976048237878,0.21503859617595494,0.23404484976189782,0.4899776023049222,0.2358093530262909,0.2981975270523391,0.4754103706524901,0.8841473458754796,0.5629482546646647])                                                                                                                                                                                                                                  |\n",
            "|[example, majority, action, films, generic, boring, theres, really, nothing, worth, watching, complete, waste, barelytapped, talents, icet, ice, cube, whove, proven, many, times, capable, acting, acting, well, dont, bother, one, go, see, new, jack, city, ricochet, watch, new, york, undercover, icet, boyz, n, hood, higher, learning, friday, ice, cube, see, real, deal, icets, horribly, cliched, dialogue, alone, makes, film, grate, teeth, im, still, wondering, heck, bill, paxton, film, heck, always, play, exact, character, aliens, onward, every, film, ive, seen, bill, paxton, playing, exact, irritating, character, least, aliens, character, died, made, somewhat, gratifyingoverall, secondrate, action, trash, countless, better, films, see, really, want, see, one, watch, judgement, night, practically, carbon, copy, better, acting, better, script, thing, made, worth, watching, decent, hand, camera, , cinematography, almost, refreshing, comes, close, making, horrible, film, , quite, 410]                                                                                                                                                                                                                                                                                  |(50,[0,1,2,3,4,5,6,7,8,9,10,11,12,14,15,16,17,18,19,20,22,23,24,25,27,29,30,31,32,33,34,35,37,38,39,40,41,42,43,44,45,47,48,49],[1.778681150662683,0.3014986085241636,1.0586950886205537,0.502030443068144,0.9785089236023529,0.799350387710314,0.3523879756699603,0.5587548927975542,0.5741244698743148,0.7379941985337378,0.5684160297425318,0.9804786850569909,0.9621402907138475,0.3943463985674309,0.6205944664340989,0.4519562702226726,2.148814154794038,0.5321097023783236,0.248197000328582,0.7628275419746108,2.073697323607141,0.8723061910845757,0.2690668220783183,0.5039752746639106,0.1889101366628833,0.6544375621431859,0.2057561660166335,1.2192454626282954,0.509288884790927,0.7691803428161905,0.7857442616999846,1.1465190657446436,0.25388835783440905,0.4509934039031287,0.34220928144713636,0.4300771923519099,0.46808969952379564,0.7349664034573833,0.7074280590788727,0.5963950541046782,0.80114827310616,0.23770518532624504,0.8841473458754796,0.5629482546646647])                                                                                            |\n",
            "|[first, hate, moronic, rappers, couldnt, act, gun, pressed, foreheads, curse, shoot, acting, like, clichã©e, version, gangstersthe, movie, doesnt, take, five, minutes, explain, going, already, warehouse, single, sympathetic, character, movie, except, homeless, guy, also, one, half, brainbill, paxton, william, sadler, hill, billies, sadlers, character, much, villain, gangsters, didnt, like, right, startthe, movie, filled, pointless, violence, walter, hills, specialty, people, falling, windows, glass, flying, everywhere, pretty, much, plot, big, problem, root, noone, everybody, dies, except, paxton, homeless, guy, everybody, get, deservethe, two, black, people, act, homeless, guy, junkie, theyre, actors, profession, annoying, ugly, brain, dead, rappersstay, away, crap, watch, 48, hours, 1, 2, instead, lest, characters, care, sense, humor, nothing, real, actors, cast]                                                                                                                                                                                                                                                                                                                                                                                                      |(50,[0,1,2,3,5,6,7,8,9,10,11,12,13,14,15,16,17,19,20,21,22,23,24,26,27,28,29,30,31,32,33,34,35,36,37,38,39,40,41,42,44,45,47,48,49],[0.22233514383283537,0.9044958255724909,0.35289836287351795,0.08367174051135734,0.399675193855157,0.3523879756699603,0.37250326186503613,0.2870622349371574,0.7379941985337378,0.3789440198283546,0.9804786850569909,0.801783575594873,0.6069291748717672,0.3943463985674309,0.15514861660852472,0.2259781351113363,0.9550285132417945,0.496394000657164,1.5256550839492216,0.8534328373830441,0.34561622060119024,0.43615309554228787,0.8072004662349548,0.4284233263460961,0.3778202733257666,0.8412091861668733,0.6544375621431859,1.234536996099801,0.30481136565707384,0.509288884790927,0.5127868952107937,0.7857442616999846,0.2293038131489287,0.39452636797311785,0.25388835783440905,0.676490105854693,0.6844185628942727,0.6451157885278649,0.7021345492856934,0.7349664034573833,0.8945925811570172,0.40057413655308,0.9508207413049802,1.4735789097924659,0.28147412733233235])                                                             |\n",
            "|[even, beatles, write, songs, everyone, liked, although, walter, hill, moptop, hes, second, none, comes, thought, provoking, action, movies, nineties, came, social, platforms, changing, music, film, emergence, rapper, turned, movie, star, full, swing, acting, took, back, seat, mans, overpowering, regional, accent, transparent, acting, one, many, icet, movies, saw, kid, loved, watch, later, cringe, bill, paxton, william, sadler, firemen, basic, lives, burning, building, tenant, go, flames, hands, map, gold, implications, hand, walter, quickly, neatly, setting, main, characters, location, fault, everyone, involved, turning, lameo, performances, icet, cube, must, red, hot, time, ive, enjoyed, careers, rappers, opinion, fell, flat, movie, ninety, minutes, one, guy, ridiculously, turning, back, guy, point, find, locked, multiple, states, disbelief, movie, documentary, wont, waste, time, recounting, stupid, plot, twists, movie, many, led, nowhere, got, feeling, watching, everyone, set, sord, confused, playing, things, cuff, two, things, still, enjoy, one, involves, scene, needle, sadlers, huge, 45, pistol, bottom, line, movie, like, dominos, pizza, yeah, ill, eat, im, hungry, dont, feel, like, cooking, im, well, aware, tastes, like, crap, 3, stars, meh]|(50,[0,1,2,3,4,5,6,7,8,9,10,11,12,13,14,15,16,17,18,20,21,22,23,24,25,26,27,28,29,30,31,32,33,34,35,36,37,38,39,40,41,42,43,44,45,47,48,49],[0.44467028766567074,0.3014986085241636,0.7057967257470359,0.33468696204542936,0.48925446180117643,0.799350387710314,0.7047759513399205,0.9312581546625903,0.5741244698743148,1.4759883970674756,1.5157760793134183,0.6536524567046605,0.9621402907138475,0.809238899829023,0.3943463985674309,0.9308916996511483,0.2259781351113363,0.7162713849313459,0.7981645535674853,2.669896396911138,0.42671641869152205,0.6912324412023805,1.7446123821691515,0.5381336441566366,0.7559629119958658,0.6426349895191441,0.3778202733257666,0.28040306205562443,0.9816563432147789,1.4402931621164345,0.6096227313141477,0.7639333271863906,0.5127868952107937,0.9821803271249807,1.1465190657446436,0.7890527359462357,0.5077767156688181,0.676490105854693,0.6844185628942727,0.21503859617595494,0.7021345492856934,1.4699328069147666,1.4148561181577455,0.7454938176308478,2.0028706827654,0.9508207413049802,0.5894315639169864,1.1258965093293294])|\n",
            "|[brass, pictures, movies, fitting, word, really, somewhat, brassy, alluring, visual, qualities, reminiscent, expensive, high, class, tv, commercials, unfortunately, brass, pictures, feature, films, pretense, wanting, entertain, viewers, two, hours, fail, miserably, undeniable, rather, soft, flabby, steamy, erotic, qualities, non, withstandingsenso, 45, remake, film, luchino, visconti, title, alida, valli, farley, granger, lead, original, tells, story, senseless, love, lust, around, venice, italian, wars, independence, brass, moved, action, 19th, 20th, century, 1945, exact, mussolini, murals, men, black, shirts, german, uniforms, tattered, garb, partisans, window, dressing, historic, context, completely, negligibleanna, galiena, plays, attractive, aristocratic, woman, falls, amoral, ss, guy, always, puts, much, lipstick, attractive, versatile, well, trained, italian, actress, clearly, material, wide, range, facial, expressions, signalling, boredom, loathing, delight, fear, hate, , ecstasy, best, reason, watch, picture, worth, two, stars, endures, basically, trashy, stuff, astonishing, amount, dignity, wish, really, good, parts, come, along, really, deserves]                                                                                            |(50,[0,1,2,3,4,5,6,7,8,10,11,12,13,14,15,16,17,18,19,20,22,23,24,25,26,27,28,29,30,31,32,33,34,35,36,37,38,39,40,41,42,43,44,45,46,47,48,49],[0.22233514383283537,0.3014986085241636,1.0586950886205537,0.251015221534072,0.24462723090058822,0.399675193855157,0.5285819635049405,0.7450065237300723,0.8611867048114721,0.1894720099141773,0.3268262283523303,0.801783575594873,1.0115486247862786,1.1830391957022928,0.6205944664340989,0.6779344053340088,0.9550285132417945,1.0642194047566471,0.496394000657164,0.7628275419746108,1.0368486618035706,0.8723061910845757,0.5381336441566366,0.5039752746639106,0.8568466526921922,0.7556405466515332,1.402015310278122,0.6544375621431859,0.6172684980499005,1.2192454626282954,0.2546444423954635,0.7691803428161905,0.5893081962749884,0.6879114394467861,0.39452636797311785,1.2694417891720453,0.22549670195156435,0.45627904192951513,1.0751929808797747,0.46808969952379564,0.7349664034573833,0.2358093530262909,1.0436913446831868,0.40057413655308,0.3510872108597927,0.7131155559787351,0.5894315639169864,1.688844763993994])|\n",
            "+-------------------------------------------------------------------------------------------------------------------------------------------------------------------------------------------------------------------------------------------------------------------------------------------------------------------------------------------------------------------------------------------------------------------------------------------------------------------------------------------------------------------------------------------------------------------------------------------------------------------------------------------------------------------------------------------------------------------------------------------------------------------------------------------------------------------------------------------------------------------------------------------------------------------------------------------------------------------------------------------------------------------------------------------------------------------------------------------------------------------------------------------------------------------------------------------------------------------------------------------------------------------------------------------------------------------+---------------------------------------------------------------------------------------------------------------------------------------------------------------------------------------------------------------------------------------------------------------------------------------------------------------------------------------------------------------------------------------------------------------------------------------------------------------------------------------------------------------------------------------------------------------------------------------------------------------------------------------------------------------------------------------------------------------------------------------------------------------------------------------------------------------------------------------------------------------------------------------------------------------------------------------------------------------------------------------------------------------------------------------------------------------------------------------------+\n",
            "only showing top 5 rows\n",
            "\n"
          ]
        }
      ]
    },
    {
      "cell_type": "markdown",
      "source": [
        "# **Codificando: variável resposta**"
      ],
      "metadata": {
        "id": "hPH0Fa2h7k1_"
      }
    },
    {
      "cell_type": "code",
      "source": [
        "TFIDFfeaturizedData.groupBy('sentiment').count().show()"
      ],
      "metadata": {
        "colab": {
          "base_uri": "https://localhost:8080/"
        },
        "id": "oUhAw7dd6pNd",
        "outputId": "08e8d55f-0bb2-4a5b-aa96-734a44975830"
      },
      "execution_count": 47,
      "outputs": [
        {
          "output_type": "stream",
          "name": "stdout",
          "text": [
            "+---------+-----+\n",
            "|sentiment|count|\n",
            "+---------+-----+\n",
            "|      pos|24694|\n",
            "|      neg|24765|\n",
            "+---------+-----+\n",
            "\n"
          ]
        }
      ]
    },
    {
      "cell_type": "code",
      "source": [
        "from pyspark.ml.feature import StringIndexer\n",
        "\n",
        "stringindexer = StringIndexer(inputCol='sentiment', outputCol='label')\n",
        "dados = stringindexer.fit(dados).transform(dados)"
      ],
      "metadata": {
        "id": "HvfEkUBH7tXP"
      },
      "execution_count": 48,
      "outputs": []
    },
    {
      "cell_type": "code",
      "source": [
        "dados.groupBy(['sentiment','label']).count().show()"
      ],
      "metadata": {
        "colab": {
          "base_uri": "https://localhost:8080/"
        },
        "id": "O-Ca2akb8RbR",
        "outputId": "2028b519-0f20-4742-c395-6510cd82aea1"
      },
      "execution_count": 49,
      "outputs": [
        {
          "output_type": "stream",
          "name": "stdout",
          "text": [
            "+---------+-----+-----+\n",
            "|sentiment|label|count|\n",
            "+---------+-----+-----+\n",
            "|      pos|  1.0|24694|\n",
            "|      neg|  0.0|24765|\n",
            "+---------+-----+-----+\n",
            "\n"
          ]
        }
      ]
    },
    {
      "cell_type": "markdown",
      "source": [
        "# **Pipeline de transformação dos dados**"
      ],
      "metadata": {
        "id": "MhQ5wfDB8vve"
      }
    },
    {
      "cell_type": "code",
      "source": [
        "from pyspark.ml import Pipeline\n",
        "\n",
        "tokenizer = Tokenizer(inputCol='texto_limpo', outputCol='tokens')\n",
        "stopwords = StopWordsRemover(inputCol='tokens', outputCol='texto_final')\n",
        "hashingTF = HashingTF(inputCol=stopwords.getOutputCol(), outputCol='HTF', numFeatures=1000)\n",
        "tfidf = IDF(inputCol='HTF', outputCol='features')\n",
        "\n",
        "pipeline = Pipeline(stages = [tokenizer, stopwords, hashingTF, tfidf])"
      ],
      "metadata": {
        "id": "kmQhtnl18dj6"
      },
      "execution_count": 50,
      "outputs": []
    },
    {
      "cell_type": "code",
      "source": [
        "dados_transformados = pipeline.fit(dados).transform(dados)"
      ],
      "metadata": {
        "id": "KE4ZJJ6D9fpV"
      },
      "execution_count": 51,
      "outputs": []
    },
    {
      "cell_type": "code",
      "source": [
        "dados_transformados.show(5)"
      ],
      "metadata": {
        "colab": {
          "base_uri": "https://localhost:8080/"
        },
        "id": "8Ue4gdIY9mz_",
        "outputId": "917d1cc1-3ce4-4b3c-e534-bad5013fa70a"
      },
      "execution_count": 52,
      "outputs": [
        {
          "output_type": "stream",
          "name": "stdout",
          "text": [
            "+---+--------------------+--------------------+---------+--------------------+--------------------+-----+--------------------+--------------------+--------------------+--------------------+\n",
            "| id|             text_en|             text_pt|sentiment|         texto_regex|         texto_limpo|label|              tokens|         texto_final|                 HTF|            features|\n",
            "+---+--------------------+--------------------+---------+--------------------+--------------------+-----+--------------------+--------------------+--------------------+--------------------+\n",
            "|  1|Once again Mr. Co...|Mais uma vez, o S...|      neg|Once again Mr Cos...|Once again Mr Cos...|  0.0|[once, again, mr,...|[mr, costner, dra...|(1000,[10,21,34,4...|(1000,[10,21,34,4...|\n",
            "|  2|This is an exampl...|Este é um exemplo...|      neg|This is an exampl...|This is an exampl...|  0.0|[this, is, an, ex...|[example, majorit...|(1000,[0,3,11,12,...|(1000,[0,3,11,12,...|\n",
            "|  3|First of all I ha...|Primeiro de tudo ...|      neg|First of all I ha...|First of all I ha...|  0.0|[first, of, all, ...|[first, hate, mor...|(1000,[1,7,33,38,...|(1000,[1,7,33,38,...|\n",
            "|  4|Not even the Beat...|Nem mesmo os Beat...|      neg|Not even the Beat...|Not even the Beat...|  0.0|[not, even, the, ...|[even, beatles, w...|(1000,[0,3,10,12,...|(1000,[0,3,10,12,...|\n",
            "|  5|Brass pictures mo...|Filmes de fotos d...|      neg|Brass pictures mo...|Brass pictures mo...|  0.0|[brass, pictures,...|[brass, pictures,...|(1000,[3,6,7,11,3...|(1000,[3,6,7,11,3...|\n",
            "+---+--------------------+--------------------+---------+--------------------+--------------------+-----+--------------------+--------------------+--------------------+--------------------+\n",
            "only showing top 5 rows\n",
            "\n"
          ]
        }
      ]
    },
    {
      "cell_type": "markdown",
      "source": [
        "# **Modelo de classificação - Árvore de Decisão**"
      ],
      "metadata": {
        "id": "Ui3IlRPf_jrh"
      }
    },
    {
      "cell_type": "code",
      "source": [
        "featureDF = dados_transformados.select(['features', 'label'])"
      ],
      "metadata": {
        "id": "5US7YV1x9pFw"
      },
      "execution_count": 53,
      "outputs": []
    },
    {
      "cell_type": "code",
      "source": [
        "featureDF.show(5, truncate=False)"
      ],
      "metadata": {
        "colab": {
          "base_uri": "https://localhost:8080/"
        },
        "id": "LchO44a4_uQc",
        "outputId": "7e3aa205-b6bf-4a14-f852-b562e27ec671"
      },
      "execution_count": 54,
      "outputs": [
        {
          "output_type": "stream",
          "name": "stdout",
          "text": [
            "+-------------------------------------------------------------------------------------------------------------------------------------------------------------------------------------------------------------------------------------------------------------------------------------------------------------------------------------------------------------------------------------------------------------------------------------------------------------------------------------------------------------------------------------------------------------------------------------------------------------------------------------------------------------------------------------------------------------------------------------------------------------------------------------------------------------------------------------------------------------------------------------------------------------------------------------------------------------------------------------------------------------------------------------------------------------------------------------------------------------------------------------------------------------------------------------------------------------------------------------------------------------------------------------------------------------------------------------------------------------------------------------------------------------------------------------------------------------------------------------------------------------------------------------------------------------------------------------------------------------------------------------------------------------------------------------------------------------------------------------------------------------------------------------------------------------------------------------------------------------------------------------------------------------------------------------------------------------------------------------------------------------------------------------------------------------------------------------------------------------------------------------------------------------------------------------------------------------------------------------------------------------------------------------------------------------------------------------------------------------------------------------------------------------------------------------------------------------------------------------------------------------------------------------------------------------------------------------------------------------------------------------------------------------------------------------------------------------------------------------------------------------------------------------------------------------------------------------------------------------------------------------------------------------------------------------------------------------------------------------------------------------------------------------------------------------------------------------------------------------------------------------------------------------------------------------------------------------------+-----+\n",
            "|features                                                                                                                                                                                                                                                                                                                                                                                                                                                                                                                                                                                                                                                                                                                                                                                                                                                                                                                                                                                                                                                                                                                                                                                                                                                                                                                                                                                                                                                                                                                                                                                                                                                                                                                                                                                                                                                                                                                                                                                                                                                                                                                                                                                                                                                                                                                                                                                                                                                                                                                                                                                                                                                                                                                                                                                                                                                                                                                                                                                                                                                                                                                                                                                                           |label|\n",
            "+-------------------------------------------------------------------------------------------------------------------------------------------------------------------------------------------------------------------------------------------------------------------------------------------------------------------------------------------------------------------------------------------------------------------------------------------------------------------------------------------------------------------------------------------------------------------------------------------------------------------------------------------------------------------------------------------------------------------------------------------------------------------------------------------------------------------------------------------------------------------------------------------------------------------------------------------------------------------------------------------------------------------------------------------------------------------------------------------------------------------------------------------------------------------------------------------------------------------------------------------------------------------------------------------------------------------------------------------------------------------------------------------------------------------------------------------------------------------------------------------------------------------------------------------------------------------------------------------------------------------------------------------------------------------------------------------------------------------------------------------------------------------------------------------------------------------------------------------------------------------------------------------------------------------------------------------------------------------------------------------------------------------------------------------------------------------------------------------------------------------------------------------------------------------------------------------------------------------------------------------------------------------------------------------------------------------------------------------------------------------------------------------------------------------------------------------------------------------------------------------------------------------------------------------------------------------------------------------------------------------------------------------------------------------------------------------------------------------------------------------------------------------------------------------------------------------------------------------------------------------------------------------------------------------------------------------------------------------------------------------------------------------------------------------------------------------------------------------------------------------------------------------------------------------------------------------------------------------+-----+\n",
            "|(1000,[10,21,34,48,72,77,83,90,92,112,122,157,158,197,211,216,229,258,275,288,299,310,319,383,391,410,416,439,450,492,524,527,543,560,594,605,611,617,647,660,665,666,685,698,723,748,756,757,763,776,780,799,811,817,837,865,867,885,931,979],[1.7480076825911535,2.3386083355593,1.7840657292363356,1.7601573647552795,5.22772370036066,2.834386696945179,1.8263584488179623,2.417743190242657,2.1064092838854167,1.0503999587918849,6.227232812223681,1.2747066264626457,1.6259503658953565,1.8813400372319373,2.6255221710769745,4.080068429881088,2.514619932218172,2.6026088152813864,1.4987338341295084,2.4975212626387666,3.167355099814435,7.525172804627012,2.119791885751702,2.0876433010837023,1.266545339076943,1.4888283051401054,2.2009719863907056,0.49117233274961963,2.6398663911480647,2.6735725921687004,1.2012806503241205,1.3306152275135472,1.4355253826629266,1.931677105081488,2.117282889579572,2.3033941545268517,4.324908027910061,2.040500814218004,2.401764454868107,3.381827560604041,2.0986297196972568,8.32067867038752,1.982331710301739,2.4975212626387666,2.1144173346887594,1.7970301078230626,2.4222907196802863,3.399177586994484,1.5758396821297351,2.8444161775238594,2.0264432721508676,2.186645873208662,3.2364165560550227,1.1968543806067833,2.0896021655690356,2.31376748053605,2.917286657603415,2.5695901131736125,2.342177893155268,2.8640728300734106])                                                                                                                                                                                                                                                                                                                                                                                                                                                                                                                                                                                                                                                                                                                                                                                                                                                                                                                                                                                                                                                                                                                                                                                                                                                                                                                                                                                                                                                                                                                                                                                                                                                                                                                                                                                                          |0.0  |\n",
            "|(1000,[0,3,11,12,17,56,61,72,112,135,148,157,167,172,173,188,216,218,230,244,245,252,275,292,305,310,312,331,341,344,352,354,360,364,372,389,407,410,420,422,423,432,433,434,451,453,467,474,482,492,495,497,543,548,561,566,585,588,589,599,606,623,633,634,635,650,665,679,681,691,700,702,708,712,740,765,781,798,800,805,815,817,839,849,853,857,867,868,869,884,887,959,977,990,992],[1.5810339898834755,2.3576703752818498,2.0188026481829344,2.274279436055449,5.9270070089658455,1.7353156926726954,1.6720104471851074,2.61386185018033,2.1007999175837697,5.826222327984449,2.1614000879835955,0.6373533132313228,2.886230132950305,7.340105082259767,1.6928898485704658,1.1186252090003208,2.040034214940544,2.3908839211923882,3.117719443552544,2.6841765206898396,3.2271999009500987,2.488471427118849,2.997467668259017,1.842052986886685,1.9694979334548053,2.5083909348756706,1.4830208284649522,3.791413398134151,2.4082601659151215,3.3825408117213334,2.469179775056264,4.115147070277537,1.782502007260153,3.2593103759208755,2.343488070509735,2.898328928818929,3.1190908723389232,1.4888283051401054,6.02736922414647,2.8815951807656135,2.4010948867145347,2.021088711816647,2.230443121242271,3.913081309126844,1.625025819114208,1.329850584564531,2.8654917731990346,3.665301938371286,2.2162478884832644,2.6735725921687004,2.362578090631121,2.409159446551265,4.30657614798878,2.5669529808436047,2.6339350081323194,1.4928687146771102,3.27214674705361,2.1709256495134657,2.224067701185355,2.208672794523884,2.598795135911141,2.8624041193821848,4.525889096467435,1.4903527640283531,2.255008766724007,7.5391825975575815,2.0986297196972568,3.8356414209175425,1.5938901796130929,1.5669836075094739,2.4013180262892644,2.3796836284183116,2.45554904250937,2.1942748732871493,1.8751234971405495,2.3818698995121355,3.766664404090251,2.2841550841628515,5.105662814520996,3.8408127093170483,1.0951654687455563,1.1968543806067833,3.0336436945885445,2.7008983196986605,1.1179447474974635,1.7352010466421888,4.375929986405122,2.7926016425719924,1.8471687417449092,3.1592269173638927,2.2259386091211666,6.37348989251557,1.2727346355530946,2.282964843990597,2.5627479812178433])                                                                                                                                                                                                                                                                                                                                                                                                                                                                                                                                                                                                                                                                                                                                                                                                                                                                                                                                                                                      |0.0  |\n",
            "|(1000,[1,7,33,38,48,69,73,94,106,117,134,144,216,239,240,263,286,292,310,312,313,330,341,347,394,395,403,410,412,420,422,423,426,439,447,477,485,490,497,524,527,530,538,561,579,594,602,612,620,626,633,641,648,657,688,691,698,700,706,708,714,721,728,737,751,780,784,789,790,792,805,815,820,832,855,867,871,884,889,892,898,901,919,928,930,931,932,948,949,959,961,967,974,997],[2.0411232854488097,2.026136523682205,2.6466884755942273,1.824852613422362,1.7601573647552795,2.162102581865664,2.6889257133503017,6.189472625099686,1.4871272438050815,2.425943691778978,3.5799636692587433,1.707836155036174,2.040034214940544,3.464200486925735,1.5551366112563878,2.43003779275822,1.9757484080525416,1.842052986886685,2.5083909348756706,1.4830208284649522,2.2492417380530143,1.4534840359587486,2.4082601659151215,1.7245960096827115,2.055232313976822,2.3864766862049804,1.2941874830844962,1.4888283051401054,2.682697011616882,3.013684612073235,2.8815951807656135,2.4010948867145347,1.2127047107560642,1.473516998248859,1.3590112393708729,1.5311074539842118,2.415477157095345,2.4596717405086173,2.409159446551265,2.402561300648241,1.3306152275135472,2.833011180909869,1.6455659603235613,5.267870016264639,5.732404001003233,1.058641444789786,1.990289311975053,8.635061060524327,4.479026956424471,3.0425026430557516,2.2629445482337176,3.338695405175441,2.577809700747254,2.7124066235738145,2.0458042114556205,1.5669836075094739,2.4975212626387666,2.4013180262892644,2.334007741915776,1.227774521254685,2.235346016223062,2.9580368762655556,1.4532674379391706,2.0018965851499297,2.838179151068312,2.0264432721508676,3.0248625384354786,1.9251406796119228,1.8344280929109882,1.2631074328115952,1.2802709031056827,0.5475827343727782,3.188704770500952,1.8384874667461648,0.9415255961875179,2.917286657603415,1.8965809739578603,3.1592269173638927,2.6651115643039227,2.070023836141364,3.8400691627334593,1.5718398719096027,1.8442239857599478,3.981762581362216,4.101957328793206,2.342177893155268,2.327975482334291,1.9085068504983251,2.7423980506054133,6.37348989251557,2.704820484931825,2.2103307114551756,2.478537971725989,2.967819775653288])                                                                                                                                                                                                                                                                                                                                                                                                                                                                                                                                                                                                                                                                                                                                                                                                                                                                                                                                                                                                            |0.0  |\n",
            "|(1000,[0,3,10,12,17,23,47,52,55,92,94,106,115,117,132,135,154,157,170,172,182,188,195,197,198,203,206,227,242,248,249,256,275,276,284,286,307,312,313,320,325,329,330,334,335,342,349,350,370,391,395,406,410,412,416,420,423,430,432,437,439,445,447,451,460,473,474,485,490,510,511,513,515,545,560,574,576,579,592,593,608,613,620,623,633,637,641,653,654,657,664,665,668,685,692,693,694,703,708,712,723,728,734,741,759,779,780,781,785,789,792,799,805,813,815,820,823,826,831,833,836,844,852,868,870,893,897,909,911,918,934,944,959,962,971,975,977],[1.5810339898834755,0.5894175938204624,5.24402304777346,2.274279436055449,2.9635035044829228,2.016977552619288,3.6242903883580926,2.5307452501316696,1.5555196796387776,2.1064092838854167,4.126315083399791,1.4871272438050815,1.9445968185639688,4.851887383557956,2.7157628433527696,2.9131111639922245,2.4587258903553395,1.9120599396939686,2.424800703884512,7.340105082259767,2.0512931298079993,3.3558756270009624,2.3506274575793307,1.8813400372319373,2.139864000349924,2.5412138763129812,2.2592591595216684,1.9551112660982097,2.6889257133503017,2.342809139888486,2.178576251726514,2.248283791816333,1.4987338341295084,2.3182756848927064,3.408298963704272,1.9757484080525416,3.2395077486246957,1.4830208284649522,2.2492417380530143,2.1001147459581224,2.3510518157439844,3.230774068655941,2.9069680719174973,2.095666266754702,1.3727193102907864,1.7661697612931848,4.329835005590948,1.6855541831136316,1.6997263511041822,1.266545339076943,2.3864766862049804,0.9845834268447168,1.4888283051401054,2.682697011616882,2.2009719863907056,3.013684612073235,2.4010948867145347,3.060906680103248,2.021088711816647,2.2020684777286346,2.4558616637480983,2.5304912818763365,1.3590112393708729,1.625025819114208,3.5182001918686527,2.5917509453093373,3.665301938371286,2.415477157095345,2.4596717405086173,1.8595543987224414,2.517373031191498,2.1067416754457313,3.714684695150652,5.5202625150824165,1.931677105081488,2.3127457168832453,2.74869530063445,2.8662020005016164,2.7617299789049055,2.237427576251791,3.5091221743172465,2.068422811143595,2.2395134782122357,2.8624041193821848,2.2629445482337176,2.2929270702356885,3.338695405175441,1.8177306991438966,3.553328266821742,2.7124066235738145,2.798892012593673,2.0986297196972568,2.642419221920355,1.982331710301739,3.622775236553082,3.898544082720819,2.47348806319461,2.377066396826185,1.227774521254685,2.1942748732871493,4.228834669377519,1.4532674379391706,2.4475589506038906,2.502694325043246,3.125515860021581,1.2806346585205555,2.0264432721508676,1.8833322020451255,2.446043710043527,1.9251406796119228,1.2631074328115952,2.186645873208662,3.8408127093170483,3.2359022850228607,1.6427482031183345,3.188704770500952,2.795907430706492,1.4823083874338379,2.527701879788758,2.575416400841413,2.2689868626896805,1.7256174022699478,3.0982662175742055,2.7926016425719924,2.3491436205291203,6.979574565605596,2.2762467788107834,2.066984076981263,2.0617263575484737,2.8950328262193255,2.560390416275189,2.055232313976822,6.37348989251557,3.1736156548159924,3.2317976101987282,1.7661697612931848,1.2727346355530946])|0.0  |\n",
            "|(1000,[3,6,7,11,34,42,49,69,77,78,89,94,99,112,113,116,127,144,154,157,164,165,167,168,181,187,196,197,206,220,222,228,231,238,240,242,284,289,290,307,312,315,317,318,323,326,349,356,370,372,375,377,381,398,403,452,463,466,473,476,480,481,483,490,495,499,513,519,524,532,535,547,560,563,583,585,591,602,612,623,628,633,639,658,664,679,694,705,708,722,728,734,743,758,763,765,787,800,803,817,826,830,836,837,840,841,855,865,868,877,880,889,899,918,926,944,947,948,949,951,964,974],[0.5894175938204624,3.362334441917682,2.026136523682205,2.0188026481829344,1.7840657292363356,2.8247975823724802,2.3930948440474586,2.162102581865664,2.834386696945179,2.0725908197424987,2.480710049326675,4.126315083399791,2.4653657060702905,3.151199876375655,2.3184810869679895,3.391502161702996,2.982077442917114,3.415672310072348,2.4587258903553395,1.2747066264626457,2.936083366049683,2.734893324951346,1.4431150664751524,0.917200972139278,3.024030245420309,2.735516572089002,2.3942021412484062,1.8813400372319373,2.2592591595216684,2.771376355956711,2.2715316423736502,2.107074177526933,2.712711269425371,2.5556918954936347,1.5551366112563878,5.3778514267006035,3.408298963704272,2.761090183617566,3.3600034385312063,3.2395077486246957,1.4830208284649522,1.9374141949096257,2.445810365041885,2.9410480506790857,1.9794004462946289,2.2345901582883605,2.164917502795474,2.394645403667011,1.6997263511041822,1.1717440352548676,5.821759700621578,3.316159240153028,3.554741694618889,3.0565843777731154,1.2941874830844962,2.8986958339780626,2.2897283469964966,3.115893792657519,5.1835018906186745,2.08016966759688,2.78930674667514,2.5168719036440526,3.2282197888508444,4.9193434810172345,2.362578090631121,1.94728594338878,2.1067416754457313,2.275459377195298,1.2012806503241205,2.5834164435084896,5.666022361819738,2.0172815039894094,1.931677105081488,2.10242917912879,3.36759915135779,1.636073373526805,2.799224183332486,3.980578623950106,2.8783536868414425,1.4312020596910924,2.9709706250501235,2.2629445482337176,3.742452570938449,3.3752530009092387,2.798892012593673,3.8356414209175425,4.94697612638922,3.2865193096882823,1.227774521254685,2.2717276631524808,2.906534875878341,1.2237794753019453,2.882316941894023,2.3538145419725915,1.5758396821297351,2.3818698995121355,8.173996304304268,2.552831407260498,1.8574794401255534,2.3937087612135666,1.4823083874338379,2.593372129128337,2.2689868626896805,2.0896021655690356,2.2915263696565034,2.5442987116641915,0.9415255961875179,2.31376748053605,2.7926016425719924,2.717292129474337,3.476550335146345,2.6651115643039227,2.4782969207425394,2.8950328262193255,3.5675532577530893,2.055232313976822,2.403104937642559,1.9085068504983251,2.7423980506054133,3.1804019145003517,1.9798395885105713,2.478537971725989])                                                                                                                                                                                                                                                                                                                                                                |0.0  |\n",
            "+-------------------------------------------------------------------------------------------------------------------------------------------------------------------------------------------------------------------------------------------------------------------------------------------------------------------------------------------------------------------------------------------------------------------------------------------------------------------------------------------------------------------------------------------------------------------------------------------------------------------------------------------------------------------------------------------------------------------------------------------------------------------------------------------------------------------------------------------------------------------------------------------------------------------------------------------------------------------------------------------------------------------------------------------------------------------------------------------------------------------------------------------------------------------------------------------------------------------------------------------------------------------------------------------------------------------------------------------------------------------------------------------------------------------------------------------------------------------------------------------------------------------------------------------------------------------------------------------------------------------------------------------------------------------------------------------------------------------------------------------------------------------------------------------------------------------------------------------------------------------------------------------------------------------------------------------------------------------------------------------------------------------------------------------------------------------------------------------------------------------------------------------------------------------------------------------------------------------------------------------------------------------------------------------------------------------------------------------------------------------------------------------------------------------------------------------------------------------------------------------------------------------------------------------------------------------------------------------------------------------------------------------------------------------------------------------------------------------------------------------------------------------------------------------------------------------------------------------------------------------------------------------------------------------------------------------------------------------------------------------------------------------------------------------------------------------------------------------------------------------------------------------------------------------------------------------------------------------+-----+\n",
            "only showing top 5 rows\n",
            "\n"
          ]
        }
      ]
    },
    {
      "cell_type": "code",
      "source": [
        "featureDF.printSchema()"
      ],
      "metadata": {
        "colab": {
          "base_uri": "https://localhost:8080/"
        },
        "id": "cNAs1v5-_zOn",
        "outputId": "c1e5742a-fb80-4312-c8a1-5165c0b66d77"
      },
      "execution_count": 55,
      "outputs": [
        {
          "output_type": "stream",
          "name": "stdout",
          "text": [
            "root\n",
            " |-- features: vector (nullable = true)\n",
            " |-- label: double (nullable = false)\n",
            "\n"
          ]
        }
      ]
    },
    {
      "cell_type": "code",
      "source": [
        "from pyspark.ml import Pipeline\n",
        "from pyspark.ml.classification import DecisionTreeClassifier\n",
        "\n",
        "tokenizer = Tokenizer(inputCol='texto_limpo', outputCol='tokens')\n",
        "stopwords = StopWordsRemover(inputCol='tokens', outputCol='texto_final')\n",
        "hashingTF = HashingTF(inputCol=stopwords.getOutputCol(), outputCol='HTF', numFeatures=1000)\n",
        "tfidf = IDF(inputCol='HTF', outputCol='features')\n",
        "dt = DecisionTreeClassifier(featuresCol='features', labelCol='label', maxDepth=10)\n",
        "\n",
        "pipeline = Pipeline(stages = [tokenizer, stopwords, hashingTF, tfidf, dt])"
      ],
      "metadata": {
        "id": "3uLjHd4X_4m9"
      },
      "execution_count": 56,
      "outputs": []
    },
    {
      "cell_type": "markdown",
      "source": [
        "# **Amostra e Treino**"
      ],
      "metadata": {
        "id": "LIFRFwreBDIz"
      }
    },
    {
      "cell_type": "code",
      "source": [
        "treino, teste = dados.randomSplit([0.7, 0.3], seed=101)"
      ],
      "metadata": {
        "id": "8m1woqWcAcZr"
      },
      "execution_count": 57,
      "outputs": []
    },
    {
      "cell_type": "code",
      "source": [
        "dt_model = pipeline.fit(treino)"
      ],
      "metadata": {
        "id": "V3Xsx5IXBRMk"
      },
      "execution_count": 58,
      "outputs": []
    },
    {
      "cell_type": "code",
      "source": [
        "previsoes = dt_model.transform(teste)"
      ],
      "metadata": {
        "id": "Ky60n1TIBaJn"
      },
      "execution_count": 59,
      "outputs": []
    },
    {
      "cell_type": "code",
      "source": [
        "previsoes.show()"
      ],
      "metadata": {
        "colab": {
          "base_uri": "https://localhost:8080/"
        },
        "id": "HNYZZhAqBog3",
        "outputId": "2b353a50-de63-450a-ed8f-a68e669d7553"
      },
      "execution_count": 60,
      "outputs": [
        {
          "output_type": "stream",
          "name": "stdout",
          "text": [
            "+---+--------------------+--------------------+---------+--------------------+--------------------+-----+--------------------+--------------------+--------------------+--------------------+---------------+--------------------+----------+\n",
            "| id|             text_en|             text_pt|sentiment|         texto_regex|         texto_limpo|label|              tokens|         texto_final|                 HTF|            features|  rawPrediction|         probability|prediction|\n",
            "+---+--------------------+--------------------+---------+--------------------+--------------------+-----+--------------------+--------------------+--------------------+--------------------+---------------+--------------------+----------+\n",
            "|  5|Brass pictures mo...|Filmes de fotos d...|      neg|Brass pictures mo...|Brass pictures mo...|  0.0|[brass, pictures,...|[brass, pictures,...|(1000,[3,6,7,11,3...|(1000,[3,6,7,11,3...| [366.0,1112.0]|[0.24763193504736...|       1.0|\n",
            "|  6|A funny thing hap...|Uma coisa engraça...|      neg|A funny thing hap...|A funny thing hap...|  0.0|[a, funny, thing,...|[funny, thing, ha...|(1000,[0,3,11,38,...|(1000,[0,3,11,38,...|[2429.0,3149.0]|[0.43546073861599...|       1.0|\n",
            "| 15|This film is abso...|Este filme é abso...|      neg|This film is abso...|This film is abso...|  0.0|[this, film, is, ...|[film, absolutely...|(1000,[0,3,14,32,...|(1000,[0,3,14,32,...|  [402.0,972.0]|[0.29257641921397...|       1.0|\n",
            "| 16|Heres a decidedly...|Heres um decidida...|      neg|Heres a decidedly...|Heres a decidedly...|  0.0|[heres, a, decide...|[heres, decidedly...|(1000,[0,2,3,11,2...|(1000,[0,2,3,11,2...|    [52.0,96.0]|[0.35135135135135...|       1.0|\n",
            "| 19|Many people are s...|Muitas pessoas es...|      neg|Many people are s...|Many people are s...|  0.0|[many, people, ar...|[many, people, st...|(1000,[1,3,12,16,...|(1000,[1,3,12,16,...|   [248.0,96.0]|[0.72093023255813...|       0.0|\n",
            "| 21|The best thing ab...|A melhor coisa so...|      neg|The best thing ab...|The best thing ab...|  0.0|[the, best, thing...|[best, thing, pre...|(1000,[3,9,10,138...|(1000,[3,9,10,138...|   [648.0,88.0]|[0.88043478260869...|       0.0|\n",
            "| 23|Im a huge fan of ...|Sou um grande fã ...|      neg|Im a huge fan of ...|Im a huge fan of ...|  0.0|[im, a, huge, fan...|[im, huge, fan, e...|(1000,[16,17,28,3...|(1000,[16,17,28,3...|   [76.0,187.0]|[0.28897338403041...|       1.0|\n",
            "| 24|Sure, most of the...|Claro, a maioria ...|      neg|Sure most of the ...|Sure most of the ...|  0.0|[sure, most, of, ...|[sure, slasher, f...|(1000,[3,13,18,23...|(1000,[3,13,18,23...| [1341.0,317.0]|[0.80880579010856...|       0.0|\n",
            "| 34|I was pulled into...|Eu fui puxada par...|      neg|I was pulled into...|I was pulled into...|  0.0|[i, was, pulled, ...|[pulled, movie, e...|(1000,[3,29,53,61...|(1000,[3,29,53,61...|  [402.0,972.0]|[0.29257641921397...|       1.0|\n",
            "| 36|All the criticism...|Todas as críticas...|      neg|All the criticism...|All the criticism...|  0.0|[all, the, critic...|[criticisms, movi...|(1000,[1,4,7,27,3...|(1000,[1,4,7,27,3...|[2429.0,3149.0]|[0.43546073861599...|       1.0|\n",
            "| 37|I walked into a b...|Eu entrei em uma ...|      neg|I walked into a b...|I walked into a b...|  0.0|[i, walked, into,...|[walked, book, st...|(1000,[1,3,10,14,...|(1000,[1,3,10,14,...|  [315.0,236.0]|[0.57168784029038...|       0.0|\n",
            "| 43|I wanted to like ...|Eu queria gostar ...|      neg|I wanted to like ...|I wanted to like ...|  0.0|[i, wanted, to, l...|[wanted, like, mo...|(1000,[0,3,5,24,5...|(1000,[0,3,5,24,5...|  [630.0,302.0]|[0.67596566523605...|       0.0|\n",
            "| 48|I love ghost stor...|Eu amo histórias ...|      neg|I love ghost stor...|I love ghost stor...|  0.0|[i, love, ghost, ...|[love, ghost, sto...|(1000,[54,55,112,...|(1000,[54,55,112,...|  [643.0,262.0]|[0.71049723756906...|       0.0|\n",
            "| 51|I saw this movie ...|Eu vi esse filme ...|      neg|I saw this movie ...|I saw this movie ...|  0.0|[i, saw, this, mo...|[saw, movie, yest...|(1000,[0,7,26,55,...|(1000,[0,7,26,55,...|  [684.0,504.0]|[0.57575757575757...|       0.0|\n",
            "| 52|This is one of th...|Este é um daquele...|      neg|This is one of th...|This is one of th...|  0.0|[this, is, one, o...|[one, strange, se...|(1000,[2,4,17,21,...|(1000,[2,4,17,21,...|     [7.0,39.0]|[0.15217391304347...|       1.0|\n",
            "| 53|This failed exerc...|Este exercício fr...|      neg|This failed exerc...|This failed exerc...|  0.0|[this, failed, ex...|[failed, exercise...|(1000,[0,22,44,53...|(1000,[0,22,44,53...|   [586.0,48.0]|[0.92429022082018...|       0.0|\n",
            "| 57|From time to time...|De vez em quando ...|      neg|From time to time...|From time to time...|  0.0|[from, time, to, ...|[time, time, advi...|(1000,[0,3,18,23,...|(1000,[0,3,18,23,...|     [69.0,7.0]|[0.90789473684210...|       0.0|\n",
            "| 59|This is a family ...|Este é um filme d...|      neg|This is a family ...|This is a family ...|  0.0|[this, is, a, fam...|[family, movie, b...|(1000,[3,19,61,74...|(1000,[3,19,61,74...|   [671.0,34.0]|[0.95177304964539...|       0.0|\n",
            "| 62|Veteran TV direct...|O veterano direto...|      neg|Veteran TV direct...|Veteran TV direct...|  0.0|[veteran, tv, dir...|[veteran, tv, dir...|(1000,[0,7,17,32,...|(1000,[0,7,17,32,...|  [732.0,328.0]|[0.69056603773584...|       0.0|\n",
            "| 64|Nightkill stars R...|Nightkill estrela...|      neg|Nightkill stars R...|Nightkill stars R...|  0.0|[nightkill, stars...|[nightkill, stars...|(1000,[0,3,21,32,...|(1000,[0,3,21,32,...|   [586.0,48.0]|[0.92429022082018...|       0.0|\n",
            "+---+--------------------+--------------------+---------+--------------------+--------------------+-----+--------------------+--------------------+--------------------+--------------------+---------------+--------------------+----------+\n",
            "only showing top 20 rows\n",
            "\n"
          ]
        }
      ]
    },
    {
      "cell_type": "markdown",
      "source": [
        "# **Teste e Métricas**"
      ],
      "metadata": {
        "id": "57XISZA7CHp4"
      }
    },
    {
      "cell_type": "code",
      "source": [
        "previsoes.select(['label', 'prediction']).show()"
      ],
      "metadata": {
        "colab": {
          "base_uri": "https://localhost:8080/"
        },
        "id": "NArf6mCWBr8G",
        "outputId": "18763f5f-14b4-41c8-ac96-860ca69e7e53"
      },
      "execution_count": 61,
      "outputs": [
        {
          "output_type": "stream",
          "name": "stdout",
          "text": [
            "+-----+----------+\n",
            "|label|prediction|\n",
            "+-----+----------+\n",
            "|  0.0|       1.0|\n",
            "|  0.0|       1.0|\n",
            "|  0.0|       1.0|\n",
            "|  0.0|       1.0|\n",
            "|  0.0|       0.0|\n",
            "|  0.0|       0.0|\n",
            "|  0.0|       1.0|\n",
            "|  0.0|       0.0|\n",
            "|  0.0|       1.0|\n",
            "|  0.0|       1.0|\n",
            "|  0.0|       0.0|\n",
            "|  0.0|       0.0|\n",
            "|  0.0|       0.0|\n",
            "|  0.0|       0.0|\n",
            "|  0.0|       1.0|\n",
            "|  0.0|       0.0|\n",
            "|  0.0|       0.0|\n",
            "|  0.0|       0.0|\n",
            "|  0.0|       0.0|\n",
            "|  0.0|       0.0|\n",
            "+-----+----------+\n",
            "only showing top 20 rows\n",
            "\n"
          ]
        }
      ]
    },
    {
      "cell_type": "code",
      "source": [
        "from pyspark.ml.evaluation import MulticlassClassificationEvaluator\n",
        "\n",
        "evaluator = MulticlassClassificationEvaluator(labelCol='label', predictionCol='prediction', metricName='accuracy')\n",
        "\n",
        "acuracia = evaluator.evaluate(previsoes)"
      ],
      "metadata": {
        "id": "gNMgwD6NCSTR"
      },
      "execution_count": 62,
      "outputs": []
    },
    {
      "cell_type": "code",
      "source": [
        "print('Acurácia = %s' % (acuracia))"
      ],
      "metadata": {
        "colab": {
          "base_uri": "https://localhost:8080/"
        },
        "id": "K_pi1NSWC32A",
        "outputId": "92ab05d6-d5be-4c48-c266-1d340678b4da"
      },
      "execution_count": 63,
      "outputs": [
        {
          "output_type": "stream",
          "name": "stdout",
          "text": [
            "Acurácia = 0.6700404858299596\n"
          ]
        }
      ]
    },
    {
      "cell_type": "markdown",
      "source": [
        "# **Nova Frase**"
      ],
      "metadata": {
        "id": "gerFbQUjDnPZ"
      }
    },
    {
      "cell_type": "code",
      "source": [
        "nova_base = spark.createDataFrame([\n",
        "    (1, 'This is without doubt the worst movie I have ever seen, I hated the acting of the actors.'),\n",
        "    (0, 'I loved the movie, excellent acting!'),\n",
        "], ['id', 'texto_limpo'])"
      ],
      "metadata": {
        "id": "_vxO1BJuDCV9"
      },
      "execution_count": 64,
      "outputs": []
    },
    {
      "cell_type": "code",
      "source": [
        "nova_classe = dt_model.transform(nova_base)"
      ],
      "metadata": {
        "id": "mkpVAPoyD9kE"
      },
      "execution_count": 65,
      "outputs": []
    },
    {
      "cell_type": "code",
      "source": [
        "nova_classe.show()"
      ],
      "metadata": {
        "colab": {
          "base_uri": "https://localhost:8080/"
        },
        "id": "gc-VZXaJEHj9",
        "outputId": "0e153146-eebb-48f1-8beb-df4b92448515"
      },
      "execution_count": 66,
      "outputs": [
        {
          "output_type": "stream",
          "name": "stdout",
          "text": [
            "+---+--------------------+--------------------+--------------------+--------------------+--------------------+-------------+--------------------+----------+\n",
            "| id|         texto_limpo|              tokens|         texto_final|                 HTF|            features|rawPrediction|         probability|prediction|\n",
            "+---+--------------------+--------------------+--------------------+--------------------+--------------------+-------------+--------------------+----------+\n",
            "|  1|This is without d...|[this, is, withou...|[without, doubt, ...|(1000,[35,43,269,...|(1000,[35,43,269,...|  [18.0,10.0]|[0.64285714285714...|       0.0|\n",
            "|  0|I loved the movie...|[i, loved, the, m...|[loved, movie,, e...|(1000,[185,543,73...|(1000,[185,543,73...|[156.0,774.0]|[0.16774193548387...|       1.0|\n",
            "+---+--------------------+--------------------+--------------------+--------------------+--------------------+-------------+--------------------+----------+\n",
            "\n"
          ]
        }
      ]
    }
  ]
}